{
 "cells": [
  {
   "cell_type": "markdown",
   "metadata": {},
   "source": [
    "we need to take inputs until we enter \"done\". As output we want the maximum,minimum input among those inputs."
   ]
  },
  {
   "cell_type": "code",
   "execution_count": null,
   "metadata": {},
   "outputs": [],
   "source": [
    "a=[]\n",
    "while True:\n",
    "    number=input(\"enter the number:\")\n",
    "\n",
    "    if number==\"done\":\n",
    "        break\n",
    "    else:  \n",
    "      try:\n",
    "        number==float() \n",
    "        a.append(int(number))\n",
    "        continue\n",
    "      except:\n",
    "        pass\n",
    "\n",
    "print(max(a))  \n",
    "print(min(a))      "
   ]
  },
  {
   "cell_type": "markdown",
   "metadata": {},
   "source": [
    ".format() practice"
   ]
  },
  {
   "cell_type": "code",
   "execution_count": 8,
   "metadata": {},
   "outputs": [
    {
     "name": "stdout",
     "output_type": "stream",
     "text": [
      "i am a boy. my name is Shikhar\n",
      "i'm 24 years old\n",
      "it is 12.57 km away from here\n"
     ]
    }
   ],
   "source": [
    "a=\"i am a boy. my name is {}\"\n",
    "print(a.format(\"Shikhar\"))\n",
    "\n",
    "print(\"i'm {} years old\".format(24))\n",
    "\n",
    "x=12.5689\n",
    "print(\"it is {:.2f} km away from here\".format(x))"
   ]
  },
  {
   "cell_type": "code",
   "execution_count": null,
   "metadata": {},
   "outputs": [],
   "source": []
  }
 ],
 "metadata": {
  "kernelspec": {
   "display_name": "Python 3",
   "language": "python",
   "name": "python3"
  },
  "language_info": {
   "codemirror_mode": {
    "name": "ipython",
    "version": 3
   },
   "file_extension": ".py",
   "mimetype": "text/x-python",
   "name": "python",
   "nbconvert_exporter": "python",
   "pygments_lexer": "ipython3",
   "version": "3.7.4"
  }
 },
 "nbformat": 4,
 "nbformat_minor": 4
}
