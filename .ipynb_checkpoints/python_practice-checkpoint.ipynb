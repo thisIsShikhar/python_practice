{
  "nbformat": 4,
  "nbformat_minor": 0,
  "metadata": {
    "colab": {
      "name": "python practice",
      "provenance": [],
      "collapsed_sections": [],
      "authorship_tag": "ABX9TyOe5k2I/mRQ09f5HvvnxlcS",
      "include_colab_link": true
    },
    "kernelspec": {
      "name": "python3",
      "display_name": "Python 3"
    }
  },
  "cells": [
    {
      "cell_type": "markdown",
      "metadata": {
        "id": "view-in-github",
        "colab_type": "text"
      },
      "source": [
        "<a href=\"https://colab.research.google.com/github/thisIsShikhar/python_practice/blob/master/python_practice.ipynb\" target=\"_parent\"><img src=\"https://colab.research.google.com/assets/colab-badge.svg\" alt=\"Open In Colab\"/></a>"
      ]
    },
    {
      "cell_type": "code",
      "metadata": {
        "id": "7hDeT84G_rmi",
        "colab_type": "code",
        "outputId": "519e9e3a-0db5-4191-d06f-6cf0ee8c910c",
        "colab": {
          "base_uri": "https://localhost:8080/",
          "height": 170
        }
      },
      "source": [
        "a=[]\n",
        "while True:\n",
        "    number=input(\"enter the number:\")\n",
        "\n",
        "    if number==\"done\":\n",
        "        break\n",
        "    else:  \n",
        "      try:\n",
        "        number==float() \n",
        "        a.append(int(number))\n",
        "        continue\n",
        "      except:\n",
        "        pass\n",
        "\n",
        "print(\"The maximum input:\",max(a))  \n",
        "print(\"The minimum input:\",min(a))   \n",
        "print(\"The total input:\",sum(a))   "
      ],
      "execution_count": 0,
      "outputs": [
        {
          "output_type": "stream",
          "text": [
            "enter the number:bob\n",
            "enter the number:12\n",
            "enter the number:56\n",
            "enter the number:-2\n",
            "enter the number:123\n",
            "enter the number:done\n",
            "The maximum input: 123\n",
            "The minimum input: -2\n",
            "The total input: 189\n"
          ],
          "name": "stdout"
        }
      ]
    }
  ]
}