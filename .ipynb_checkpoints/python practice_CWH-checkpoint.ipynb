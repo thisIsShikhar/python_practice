{
 "cells": [
  {
   "cell_type": "code",
   "execution_count": 1,
   "metadata": {},
   "outputs": [
    {
     "name": "stdout",
     "output_type": "stream",
     "text": [
      " liv\n"
     ]
    }
   ],
   "source": [
    "mystr=\"i live in Bangladesh\"\n",
    "\n",
    "print(mystr[1:5])"
   ]
  },
  {
   "cell_type": "code",
   "execution_count": 2,
   "metadata": {},
   "outputs": [
    {
     "name": "stdout",
     "output_type": "stream",
     "text": [
      "desh\n"
     ]
    }
   ],
   "source": [
    "print(mystr[-4:])"
   ]
  },
  {
   "cell_type": "code",
   "execution_count": null,
   "metadata": {},
   "outputs": [],
   "source": [
    "print(mystr.isalnum()) #alpha numeric"
   ]
  },
  {
   "cell_type": "code",
   "execution_count": null,
   "metadata": {},
   "outputs": [],
   "source": [
    "print(mystr.isalpha())"
   ]
  },
  {
   "cell_type": "code",
   "execution_count": null,
   "metadata": {},
   "outputs": [],
   "source": [
    "print(mystr.endswith(\"desh\"))"
   ]
  },
  {
   "cell_type": "code",
   "execution_count": null,
   "metadata": {},
   "outputs": [],
   "source": [
    "print(mystr.count(\"i\"))"
   ]
  },
  {
   "cell_type": "code",
   "execution_count": null,
   "metadata": {},
   "outputs": [],
   "source": [
    "print(mystr.capitalize())"
   ]
  },
  {
   "cell_type": "code",
   "execution_count": null,
   "metadata": {},
   "outputs": [],
   "source": [
    "print(mystr.find(\"in\"))"
   ]
  },
  {
   "cell_type": "code",
   "execution_count": null,
   "metadata": {},
   "outputs": [],
   "source": [
    "print(mystr.upper())"
   ]
  },
  {
   "cell_type": "code",
   "execution_count": null,
   "metadata": {},
   "outputs": [],
   "source": [
    "print(mystr.replace(\"Bangladesh\", \"Germany\"))"
   ]
  },
  {
   "cell_type": "code",
   "execution_count": null,
   "metadata": {},
   "outputs": [],
   "source": [
    "numbers=[2,7,9,3,12,5]\n",
    "numbers.sort(reverse=True)\n",
    "print(numbers)"
   ]
  },
  {
   "cell_type": "code",
   "execution_count": null,
   "metadata": {},
   "outputs": [],
   "source": [
    "numbers.sort(reverse=False)\n",
    "print(numbers)"
   ]
  },
  {
   "cell_type": "code",
   "execution_count": null,
   "metadata": {},
   "outputs": [],
   "source": [
    "print(max(numbers))"
   ]
  },
  {
   "cell_type": "code",
   "execution_count": null,
   "metadata": {},
   "outputs": [],
   "source": [
    "print(min(numbers))\n",
    "numbers.append(3)\n",
    "print(numbers)"
   ]
  },
  {
   "cell_type": "code",
   "execution_count": null,
   "metadata": {},
   "outputs": [],
   "source": [
    "numbers.insert(1,55)\n",
    "print(numbers)"
   ]
  },
  {
   "cell_type": "code",
   "execution_count": null,
   "metadata": {},
   "outputs": [],
   "source": [
    "numbers.pop() #this removes the last element\n",
    "print(numbers)"
   ]
  },
  {
   "cell_type": "code",
   "execution_count": null,
   "metadata": {},
   "outputs": [],
   "source": [
    "a=5\n",
    "b=6\n",
    "\n",
    "a,b=b,a\n",
    "print(a,b)"
   ]
  },
  {
   "cell_type": "code",
   "execution_count": null,
   "metadata": {},
   "outputs": [],
   "source": [
    "dict={\"mamun\":\"sprite\",\"shikhar\":{\"Morning\":\"coke\",\"Evening\":\"pepsi\"},\"suzel\":\"fanta\"}\n",
    "\n",
    "print(dict[\"shikhar\"][\"Morning\"])"
   ]
  },
  {
   "cell_type": "code",
   "execution_count": null,
   "metadata": {},
   "outputs": [],
   "source": [
    "#for adding\n",
    "dict[\"shikhon\"]=\"vodka\"\n",
    "print(dict)"
   ]
  },
  {
   "cell_type": "code",
   "execution_count": null,
   "metadata": {},
   "outputs": [],
   "source": [
    "#for deleting\n",
    "del dict[\"shikhon\"]\n",
    "\n",
    "print(dict)"
   ]
  },
  {
   "cell_type": "code",
   "execution_count": null,
   "metadata": {},
   "outputs": [],
   "source": [
    "dictionary=dict.copy() #it will make a copy of dict but won't hurt the dict"
   ]
  },
  {
   "cell_type": "code",
   "execution_count": null,
   "metadata": {},
   "outputs": [],
   "source": [
    "print(dictionary)\n",
    "del dictionary[\"mamun\"]\n",
    "print(dictionary)"
   ]
  },
  {
   "cell_type": "code",
   "execution_count": null,
   "metadata": {},
   "outputs": [],
   "source": [
    "print(dict)"
   ]
  },
  {
   "cell_type": "code",
   "execution_count": null,
   "metadata": {},
   "outputs": [],
   "source": [
    "#for getting the value\n",
    "dict.get(\"mamun\")"
   ]
  },
  {
   "cell_type": "code",
   "execution_count": null,
   "metadata": {},
   "outputs": [],
   "source": [
    "#another updating way\n",
    "dict.update({\"shikhon\":\"vodka\"})\n",
    "print(dict)"
   ]
  },
  {
   "cell_type": "code",
   "execution_count": null,
   "metadata": {},
   "outputs": [],
   "source": [
    "print(dict.keys()) #for printing keys\n",
    "\n",
    "print(dict.values()) #for printing values\n",
    "\n",
    "print(dict.items()) #for printing items of the dictionary"
   ]
  },
  {
   "cell_type": "code",
   "execution_count": null,
   "metadata": {},
   "outputs": [],
   "source": [
    "#have to make a dictionary where we will add item from inputs\n",
    "\n",
    "dictionary= {}\n",
    "\n",
    "while True:\n",
    "    a=input(\"Enter the key of this dictionary: \")\n",
    "    b=input(\"Enter the value of the value of this key: \")\n",
    "    if a=='':\n",
    "        break\n",
    "    else:\n",
    "        \n",
    "        dictionary.update({f\"{a}\":f\"{b}\"})\n",
    "print(f\"The total items are: {dictionary}\")\n",
    "        "
   ]
  },
  {
   "cell_type": "code",
   "execution_count": null,
   "metadata": {},
   "outputs": [],
   "source": [
    "#python set\n",
    "\n",
    "z=set()\n",
    "z.add(20) #for adding\n",
    "z.add(36)\n",
    "\n",
    "print(z)"
   ]
  },
  {
   "cell_type": "code",
   "execution_count": null,
   "metadata": {},
   "outputs": [],
   "source": [
    "z.remove(20) #for removing\n",
    "\n",
    "print(z)"
   ]
  },
  {
   "cell_type": "code",
   "execution_count": null,
   "metadata": {},
   "outputs": [],
   "source": [
    "a=z.union({1,5,6,45,6})\n",
    "print(a)"
   ]
  },
  {
   "cell_type": "code",
   "execution_count": null,
   "metadata": {},
   "outputs": [],
   "source": [
    "a={\"shikhar\":\"python\",\"suzel\":\"c\",\"jahid\":\"java\"}\n",
    "b=input(\"\")\n",
    "print(a[b])"
   ]
  },
  {
   "cell_type": "code",
   "execution_count": null,
   "metadata": {},
   "outputs": [],
   "source": [
    "#faulty calculator\n",
    "#this calculator will work finely but it will give wrong answer only for 3 fixed calculations\n",
    "\n",
    "a=int(input(\"Enter the first number: \\n\"))\n",
    "b=input(\"Enter the operator: \\n\")\n",
    "c=int(input(\"Enter the second number: \\n\"))\n",
    "\n",
    "if a==45 and b=='*' and c==3:\n",
    "    print(\"The result is =\",555)\n",
    "elif a==56 and b=='+' and c==9:\n",
    "    print(\"The result is =\",77)\n",
    "elif a==56 and b=='/' and c==6:\n",
    "    print(\"The result is =\",4)\n",
    "\n",
    "else:\n",
    "    if b=='+':\n",
    "        d=a+c\n",
    "    if b=='-':\n",
    "        d=a-c\n",
    "    if b=='*':\n",
    "        d=a*c\n",
    "    if b=='/':\n",
    "        d=a/c\n",
    "    print(f\"The result is = {d}\")\n"
   ]
  },
  {
   "cell_type": "code",
   "execution_count": null,
   "metadata": {},
   "outputs": [],
   "source": [
    "a=6\n",
    "print(str(a).isnumeric()) #checking whether is it a number"
   ]
  },
  {
   "cell_type": "code",
   "execution_count": null,
   "metadata": {},
   "outputs": [],
   "source": [
    "# Short hand if else\n",
    "\n",
    "a=5\n",
    "b=7\n",
    "\n",
    "print(\"A is bigger than B\") if a>b else print(\"B is bigger than A\")"
   ]
  },
  {
   "cell_type": "code",
   "execution_count": null,
   "metadata": {},
   "outputs": [],
   "source": [
    "def function(a,b):\n",
    "    \"\"\"this function is for printing the average\"\"\"\n",
    "    return (a+b)/2\n",
    "\n",
    "print(function. __doc__) #DocString"
   ]
  },
  {
   "cell_type": "code",
   "execution_count": null,
   "metadata": {},
   "outputs": [],
   "source": [
    "a=input()\n",
    "b=input()\n",
    "\n",
    "try:\n",
    "    print(f\"the sum is {int(a+b)}\")\n",
    "    \n",
    "except Exception as e:\n",
    "    print(e)\n",
    "    "
   ]
  },
  {
   "cell_type": "code",
   "execution_count": null,
   "metadata": {},
   "outputs": [],
   "source": [
    "text=open('abc.txt')   #it will give every line's access\n",
    "content=text.read()  #for accessing every letters\n",
    "\n",
    "for a in content:\n",
    "    print(a)"
   ]
  },
  {
   "cell_type": "markdown",
   "metadata": {},
   "source": [
    "Project: astrologer's stars\n",
    "\n",
    "have to take an input for the number of rows.\n",
    "ex. n=4\n",
    "*\n",
    "**\n",
    "and have to take a input for boolean. which will indicate if it will be lower to higher / higher to lower"
   ]
  },
  {
   "cell_type": "code",
   "execution_count": 63,
   "metadata": {},
   "outputs": [
    {
     "name": "stdin",
     "output_type": "stream",
     "text": [
      "Enter the number of rows:  4\n",
      "enter the boolean 1/0:  0\n"
     ]
    },
    {
     "name": "stdout",
     "output_type": "stream",
     "text": [
      "****\n",
      "***\n",
      "**\n",
      "*\n"
     ]
    }
   ],
   "source": [
    "a=int(input(\"Enter the number of rows: \"))\n",
    "b=bool(int(input(\"enter the boolean 1/0: \")))\n",
    "\n",
    "if b==True:\n",
    "    for c in range(1,a+1):\n",
    "        print(\"*\"*int(c))\n",
    "elif b==False:    \n",
    "    for c in range(a,0,-1):\n",
    "        print(\"*\"*int(c))    "
   ]
  },
  {
   "cell_type": "markdown",
   "metadata": {},
   "source": [
    "file.readline() #for reading a line of that file\n",
    "file.readlines() #it takes all the lines and put it in a list\n",
    "file.tell() #It tells you on which number of character you are\n",
    "file.seek() #It takes you to a particular character number to start\n",
    "\n",
    "with open(abc.txt) as file:  #another way of opening files which doesn't need to close it\n",
    "    a=file.read(4)\n",
    "    print(a)\n"
   ]
  },
  {
   "cell_type": "code",
   "execution_count": 10,
   "metadata": {},
   "outputs": [
    {
     "name": "stdout",
     "output_type": "stream",
     "text": [
      "20\n",
      "20\n",
      "50\n"
     ]
    }
   ],
   "source": [
    "def goru():\n",
    "    a=20\n",
    "    print(a)\n",
    "    def chagol():\n",
    "        global a\n",
    "        a=50  #this makes a global variable outside of the fuction\n",
    "    chagol()    \n",
    "    print(a)\n",
    "    \n",
    "goru()    \n",
    "print(a)"
   ]
  },
  {
   "cell_type": "code",
   "execution_count": 11,
   "metadata": {},
   "outputs": [
    {
     "data": {
      "text/plain": [
       "120"
      ]
     },
     "execution_count": 11,
     "metadata": {},
     "output_type": "execute_result"
    }
   ],
   "source": [
    "#factorial in iteration method\n",
    "\n",
    "def factorial(n):\n",
    "    fac=1\n",
    "    for i in range(n):\n",
    "        fac=fac*(i+1)\n",
    "    return fac\n",
    "\n",
    "factorial(5)\n",
    "        "
   ]
  },
  {
   "cell_type": "code",
   "execution_count": 13,
   "metadata": {},
   "outputs": [
    {
     "data": {
      "text/plain": [
       "120"
      ]
     },
     "execution_count": 13,
     "metadata": {},
     "output_type": "execute_result"
    }
   ],
   "source": [
    "#factorial in recursive method\n",
    "\n",
    "def factorial(n):\n",
    "    \n",
    "    if n==1:\n",
    "        return 1\n",
    "    else:\n",
    "        return n*factorial(n-1)\n",
    "    \n",
    "factorial(5)    "
   ]
  },
  {
   "cell_type": "code",
   "execution_count": 19,
   "metadata": {},
   "outputs": [
    {
     "data": {
      "text/plain": [
       "13"
      ]
     },
     "execution_count": 19,
     "metadata": {},
     "output_type": "execute_result"
    }
   ],
   "source": [
    "#fibonacci series\n",
    "#0 1 1 2 3 5 8 13\n",
    "\n",
    "\n",
    "def fibonacci(n):\n",
    "    if n==1:\n",
    "        return 0\n",
    "    elif n==2:\n",
    "        return 1\n",
    "    else:\n",
    "        return fibonacci(n-1)+fibonacci(n-2)\n",
    "    \n",
    "fibonacci(8)    \n",
    "    "
   ]
  },
  {
   "cell_type": "code",
   "execution_count": 21,
   "metadata": {},
   "outputs": [
    {
     "data": {
      "text/plain": [
       "4"
      ]
     },
     "execution_count": 21,
     "metadata": {},
     "output_type": "execute_result"
    }
   ],
   "source": [
    "#lambda function or anonymus function\n",
    "\n",
    "minus = lambda x,y:x-y\n",
    "\n",
    "minus(9,5)"
   ]
  },
  {
   "cell_type": "code",
   "execution_count": 26,
   "metadata": {},
   "outputs": [
    {
     "name": "stdout",
     "output_type": "stream",
     "text": [
      "murgi\n"
     ]
    }
   ],
   "source": [
    "import random \n",
    "\n",
    "lst=[\"goru\",\"chagol\",\"vera\",\"murgi\"]\n",
    "choice=random.choice(lst)\n",
    "print(choice)"
   ]
  },
  {
   "cell_type": "code",
   "execution_count": 27,
   "metadata": {},
   "outputs": [
    {
     "name": "stdout",
     "output_type": "stream",
     "text": [
      "36\n",
      "['goru', 'chagol', 'vera']\n",
      "{'mango': 'fruit', 'beef': 'meat', 'chips': 'snacks'}\n"
     ]
    }
   ],
   "source": [
    "def function(normal,*args, **kwargs):\n",
    "    print(normal)\n",
    "    for i in args:\n",
    "        print(i)\n",
    "    for j,k in kwargs.items():\n",
    "        print (j,k)\n",
    "a=[\"goru\",\"chagol\",\"vera\"]\n",
    "b={\"mango\":\"fruit\", \"beef\":\"meat\",\"chips\":\"snacks\"}\n",
    "normal=36\n",
    "\n",
    "function(normal,a,b)"
   ]
  },
  {
   "cell_type": "code",
   "execution_count": 30,
   "metadata": {},
   "outputs": [
    {
     "name": "stdout",
     "output_type": "stream",
     "text": [
      "going\n",
      "going\n",
      "going\n",
      "going\n",
      "going\n",
      "going\n",
      "going\n",
      "going\n",
      "going\n",
      "going\n",
      "going\n",
      "going\n",
      "going\n",
      "going\n",
      "going\n",
      "time 0.0025403499603271484\n"
     ]
    }
   ],
   "source": [
    "import time\n",
    "\n",
    "initial=time.time()\n",
    "\n",
    "for a in range(15):\n",
    "    print(\"going\")\n",
    "print(f\"time {time.time()-initial}\")    \n",
    "          "
   ]
  },
  {
   "cell_type": "code",
   "execution_count": 35,
   "metadata": {},
   "outputs": [
    {
     "name": "stdout",
     "output_type": "stream",
     "text": [
      "Tue Jun  9 00:23:00 2020\n"
     ]
    }
   ],
   "source": [
    "import time\n",
    "\n",
    "localtime=time.asctime(time.localtime(time.time()))\n",
    "\n",
    "print(localtime)"
   ]
  },
  {
   "cell_type": "code",
   "execution_count": 38,
   "metadata": {},
   "outputs": [
    {
     "name": "stdout",
     "output_type": "stream",
     "text": [
      "sleeping\n",
      "sleeping\n",
      "sleeping\n",
      "sleeping\n",
      "sleeping\n",
      "sleeping\n",
      "sleeping\n",
      "sleeping\n",
      "sleeping\n",
      "sleeping\n"
     ]
    }
   ],
   "source": [
    "import time\n",
    "\n",
    "for i in range(10):\n",
    "    print(\"sleeping\")\n",
    "    time.sleep(2)"
   ]
  },
  {
   "cell_type": "code",
   "execution_count": null,
   "metadata": {},
   "outputs": [],
   "source": []
  }
 ],
 "metadata": {
  "kernelspec": {
   "display_name": "Python 3",
   "language": "python",
   "name": "python3"
  },
  "language_info": {
   "codemirror_mode": {
    "name": "ipython",
    "version": 3
   },
   "file_extension": ".py",
   "mimetype": "text/x-python",
   "name": "python",
   "nbconvert_exporter": "python",
   "pygments_lexer": "ipython3",
   "version": "3.7.4"
  }
 },
 "nbformat": 4,
 "nbformat_minor": 4
}
