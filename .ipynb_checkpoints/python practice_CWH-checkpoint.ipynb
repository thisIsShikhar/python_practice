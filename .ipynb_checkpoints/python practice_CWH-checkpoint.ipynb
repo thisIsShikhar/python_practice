{
 "cells": [
  {
   "cell_type": "code",
   "execution_count": null,
   "metadata": {},
   "outputs": [],
   "source": [
    "mystr=\"i live in Bangladesh\"\n",
    "\n",
    "print(mystr[1:5])"
   ]
  },
  {
   "cell_type": "code",
   "execution_count": null,
   "metadata": {},
   "outputs": [],
   "source": [
    "print(mystr[-4:])"
   ]
  },
  {
   "cell_type": "code",
   "execution_count": null,
   "metadata": {},
   "outputs": [],
   "source": [
    "print(mystr.isalnum()) #alpha numeric"
   ]
  },
  {
   "cell_type": "code",
   "execution_count": null,
   "metadata": {},
   "outputs": [],
   "source": [
    "print(mystr.isalpha())"
   ]
  },
  {
   "cell_type": "code",
   "execution_count": null,
   "metadata": {},
   "outputs": [],
   "source": [
    "print(mystr.endswith(\"desh\"))"
   ]
  },
  {
   "cell_type": "code",
   "execution_count": null,
   "metadata": {},
   "outputs": [],
   "source": [
    "print(mystr.count(\"i\"))"
   ]
  },
  {
   "cell_type": "code",
   "execution_count": null,
   "metadata": {},
   "outputs": [],
   "source": [
    "print(mystr.capitalize())"
   ]
  },
  {
   "cell_type": "code",
   "execution_count": null,
   "metadata": {},
   "outputs": [],
   "source": [
    "print(mystr.find(\"in\"))"
   ]
  },
  {
   "cell_type": "code",
   "execution_count": null,
   "metadata": {},
   "outputs": [],
   "source": [
    "print(mystr.upper())"
   ]
  },
  {
   "cell_type": "code",
   "execution_count": null,
   "metadata": {},
   "outputs": [],
   "source": [
    "print(mystr.replace(\"Bangladesh\", \"Germany\"))"
   ]
  },
  {
   "cell_type": "code",
   "execution_count": null,
   "metadata": {},
   "outputs": [],
   "source": [
    "numbers=[2,7,9,3,12,5]\n",
    "numbers.sort(reverse=True)\n",
    "print(numbers)"
   ]
  },
  {
   "cell_type": "code",
   "execution_count": null,
   "metadata": {},
   "outputs": [],
   "source": [
    "numbers.sort(reverse=False)\n",
    "print(numbers)"
   ]
  },
  {
   "cell_type": "code",
   "execution_count": null,
   "metadata": {},
   "outputs": [],
   "source": [
    "print(max(numbers))"
   ]
  },
  {
   "cell_type": "code",
   "execution_count": null,
   "metadata": {},
   "outputs": [],
   "source": [
    "print(min(numbers))\n",
    "numbers.append(3)\n",
    "print(numbers)"
   ]
  },
  {
   "cell_type": "code",
   "execution_count": null,
   "metadata": {},
   "outputs": [],
   "source": [
    "numbers.insert(1,55)\n",
    "print(numbers)"
   ]
  },
  {
   "cell_type": "code",
   "execution_count": null,
   "metadata": {},
   "outputs": [],
   "source": [
    "numbers.pop() #this removes the last element\n",
    "print(numbers)"
   ]
  },
  {
   "cell_type": "code",
   "execution_count": null,
   "metadata": {},
   "outputs": [],
   "source": [
    "a=5\n",
    "b=6\n",
    "\n",
    "a,b=b,a\n",
    "print(a,b)"
   ]
  },
  {
   "cell_type": "code",
   "execution_count": null,
   "metadata": {},
   "outputs": [],
   "source": [
    "dict={\"mamun\":\"sprite\",\"shikhar\":{\"Morning\":\"coke\",\"Evening\":\"pepsi\"},\"suzel\":\"fanta\"}\n",
    "\n",
    "print(dict[\"shikhar\"][\"Morning\"])"
   ]
  },
  {
   "cell_type": "code",
   "execution_count": null,
   "metadata": {},
   "outputs": [],
   "source": [
    "#for adding\n",
    "dict[\"shikhon\"]=\"vodka\"\n",
    "print(dict)"
   ]
  },
  {
   "cell_type": "code",
   "execution_count": null,
   "metadata": {},
   "outputs": [],
   "source": [
    "#for deleting\n",
    "del dict[\"shikhon\"]\n",
    "\n",
    "print(dict)"
   ]
  },
  {
   "cell_type": "code",
   "execution_count": 52,
   "metadata": {},
   "outputs": [],
   "source": [
    "dictionary=dict.copy() #it will make a copy of dict but won't hurt the dict"
   ]
  },
  {
   "cell_type": "code",
   "execution_count": null,
   "metadata": {},
   "outputs": [],
   "source": [
    "print(dictionary)\n",
    "del dictionary[\"mamun\"]\n",
    "print(dictionary)"
   ]
  },
  {
   "cell_type": "code",
   "execution_count": 59,
   "metadata": {},
   "outputs": [
    {
     "name": "stdout",
     "output_type": "stream",
     "text": [
      "{'mamun': 'sprite', 'shikhar': {'Morning': 'coke', 'Evening': 'pepsi'}, 'suzel': 'fanta'}\n"
     ]
    }
   ],
   "source": [
    "print(dict)"
   ]
  },
  {
   "cell_type": "code",
   "execution_count": 61,
   "metadata": {},
   "outputs": [
    {
     "data": {
      "text/plain": [
       "'sprite'"
      ]
     },
     "execution_count": 61,
     "metadata": {},
     "output_type": "execute_result"
    }
   ],
   "source": [
    "#for getting the value\n",
    "dict.get(\"mamun\")"
   ]
  },
  {
   "cell_type": "code",
   "execution_count": 64,
   "metadata": {},
   "outputs": [
    {
     "name": "stdout",
     "output_type": "stream",
     "text": [
      "{'mamun': 'sprite', 'shikhar': {'Morning': 'coke', 'Evening': 'pepsi'}, 'suzel': 'fanta', 'shikhon': 'vodka'}\n"
     ]
    }
   ],
   "source": [
    "#another updating way\n",
    "dict.update({\"shikhon\":\"vodka\"})\n",
    "print(dict)"
   ]
  },
  {
   "cell_type": "code",
   "execution_count": 67,
   "metadata": {},
   "outputs": [
    {
     "name": "stdout",
     "output_type": "stream",
     "text": [
      "dict_keys(['mamun', 'shikhar', 'suzel', 'shikhon'])\n",
      "dict_values(['sprite', {'Morning': 'coke', 'Evening': 'pepsi'}, 'fanta', 'vodka'])\n",
      "dict_items([('mamun', 'sprite'), ('shikhar', {'Morning': 'coke', 'Evening': 'pepsi'}), ('suzel', 'fanta'), ('shikhon', 'vodka')])\n"
     ]
    }
   ],
   "source": [
    "print(dict.keys()) #for printing keys\n",
    "\n",
    "print(dict.values()) #for printing values\n",
    "\n",
    "print(dict.items()) #for printing items of the dictionary"
   ]
  },
  {
   "cell_type": "code",
   "execution_count": 71,
   "metadata": {},
   "outputs": [
    {
     "name": "stdin",
     "output_type": "stream",
     "text": [
      "Enter the key of this dictionary:  apple\n",
      "Enter the value of the value of this key:  fruit\n",
      "Enter the key of this dictionary:  coke\n",
      "Enter the value of the value of this key:  beverage\n",
      "Enter the key of this dictionary:  \n",
      "Enter the value of the value of this key:  \n"
     ]
    },
    {
     "name": "stdout",
     "output_type": "stream",
     "text": [
      "The total items are: {'apple': 'fruit', 'coke': 'beverage'}\n"
     ]
    }
   ],
   "source": [
    "#have to make a dictionary where we will add item from inputs\n",
    "\n",
    "dictionary= {}\n",
    "\n",
    "while True:\n",
    "    a=input(\"Enter the key of this dictionary: \")\n",
    "    b=input(\"Enter the value of the value of this key: \")\n",
    "    if a=='':\n",
    "        break\n",
    "    else:\n",
    "        \n",
    "        dictionary.update({f\"{a}\":f\"{b}\"})\n",
    "print(f\"The total items are: {dictionary}\")\n",
    "        "
   ]
  },
  {
   "cell_type": "code",
   "execution_count": 73,
   "metadata": {},
   "outputs": [
    {
     "name": "stdout",
     "output_type": "stream",
     "text": [
      "{20, 36}\n"
     ]
    }
   ],
   "source": [
    "#python set\n",
    "\n",
    "z=set()\n",
    "z.add(20) #for adding\n",
    "z.add(36)\n",
    "\n",
    "print(z)"
   ]
  },
  {
   "cell_type": "code",
   "execution_count": 75,
   "metadata": {},
   "outputs": [
    {
     "ename": "KeyError",
     "evalue": "20",
     "output_type": "error",
     "traceback": [
      "\u001b[0;31m---------------------------------------------------------------------------\u001b[0m",
      "\u001b[0;31mKeyError\u001b[0m                                  Traceback (most recent call last)",
      "\u001b[0;32m<ipython-input-75-efa54832d792>\u001b[0m in \u001b[0;36m<module>\u001b[0;34m\u001b[0m\n\u001b[0;32m----> 1\u001b[0;31m \u001b[0mz\u001b[0m\u001b[0;34m.\u001b[0m\u001b[0mremove\u001b[0m\u001b[0;34m(\u001b[0m\u001b[0;36m20\u001b[0m\u001b[0;34m)\u001b[0m \u001b[0;31m#for removing\u001b[0m\u001b[0;34m\u001b[0m\u001b[0;34m\u001b[0m\u001b[0m\n\u001b[0m\u001b[1;32m      2\u001b[0m \u001b[0;34m\u001b[0m\u001b[0m\n\u001b[1;32m      3\u001b[0m \u001b[0mprint\u001b[0m\u001b[0;34m(\u001b[0m\u001b[0mz\u001b[0m\u001b[0;34m)\u001b[0m\u001b[0;34m\u001b[0m\u001b[0;34m\u001b[0m\u001b[0m\n",
      "\u001b[0;31mKeyError\u001b[0m: 20"
     ]
    }
   ],
   "source": [
    "z.remove(20) #for removing\n",
    "\n",
    "print(z)"
   ]
  },
  {
   "cell_type": "code",
   "execution_count": 78,
   "metadata": {},
   "outputs": [
    {
     "name": "stdout",
     "output_type": "stream",
     "text": [
      "{1, 36, 5, 6, 45}\n"
     ]
    }
   ],
   "source": [
    "a=z.union({1,5,6,45,6})\n",
    "print(a)"
   ]
  },
  {
   "cell_type": "code",
   "execution_count": null,
   "metadata": {},
   "outputs": [],
   "source": [
    "a={\"shikhar\":\"python\",\"suzel\":\"c\",\"jahid\":\"java\"}\n",
    "b=input(\"\")\n",
    "print(a[b])"
   ]
  },
  {
   "cell_type": "code",
   "execution_count": 2,
   "metadata": {},
   "outputs": [
    {
     "name": "stdin",
     "output_type": "stream",
     "text": [
      "Enter the first number: \n",
      " 45\n",
      "Enter the operator: \n",
      " *\n",
      "Enter the second number: \n",
      " 3\n"
     ]
    },
    {
     "name": "stdout",
     "output_type": "stream",
     "text": [
      "The result is = 555\n"
     ]
    }
   ],
   "source": [
    "#faulty calculator\n",
    "#this calculator will work finely but it will give wrong answer only for 3 fixed calculations\n",
    "\n",
    "a=int(input(\"Enter the first number: \\n\"))\n",
    "b=input(\"Enter the operator: \\n\")\n",
    "c=int(input(\"Enter the second number: \\n\"))\n",
    "\n",
    "if a==45 and b=='*' and c==3:\n",
    "    print(\"The result is =\",555)\n",
    "elif a==56 and b=='+' and c==9:\n",
    "    print(\"The result is =\",77)\n",
    "elif a==56 and b=='/' and c==6:\n",
    "    print(\"The result is =\",4)\n",
    "\n",
    "else:\n",
    "    if b=='+':\n",
    "        d=a+c\n",
    "    if b=='-':\n",
    "        d=a-c\n",
    "    if b=='*':\n",
    "        d=a*c\n",
    "    if b=='/':\n",
    "        d=a/c\n",
    "    print(f\"The result is = {d}\")\n"
   ]
  },
  {
   "cell_type": "code",
   "execution_count": 5,
   "metadata": {},
   "outputs": [
    {
     "name": "stdout",
     "output_type": "stream",
     "text": [
      "True\n"
     ]
    }
   ],
   "source": [
    "a=6\n",
    "print(str(a).isnumeric()) #checking whether is it a number"
   ]
  },
  {
   "cell_type": "code",
   "execution_count": null,
   "metadata": {},
   "outputs": [],
   "source": []
  }
 ],
 "metadata": {
  "kernelspec": {
   "display_name": "Python 3",
   "language": "python",
   "name": "python3"
  },
  "language_info": {
   "codemirror_mode": {
    "name": "ipython",
    "version": 3
   },
   "file_extension": ".py",
   "mimetype": "text/x-python",
   "name": "python",
   "nbconvert_exporter": "python",
   "pygments_lexer": "ipython3",
   "version": "3.7.4"
  }
 },
 "nbformat": 4,
 "nbformat_minor": 4
}
