{
 "cells": [
  {
   "cell_type": "code",
   "execution_count": 9,
   "metadata": {},
   "outputs": [
    {
     "name": "stdin",
     "output_type": "stream",
     "text": [
      "input your age:  4\n"
     ]
    },
    {
     "name": "stdout",
     "output_type": "stream",
     "text": [
      "Oh no!\n"
     ]
    }
   ],
   "source": [
    "age=int(input(\"input your age: \"))\n",
    "\n",
    "if age>=16:\n",
    "    print(\"Cool!\")\n",
    "else:\n",
    "    print(\"Oh no!\")\n",
    "    "
   ]
  },
  {
   "cell_type": "code",
   "execution_count": 4,
   "metadata": {},
   "outputs": [
    {
     "name": "stdin",
     "output_type": "stream",
     "text": [
      "Enter X: 2\n",
      "Enter Y: 6\n"
     ]
    },
    {
     "name": "stdout",
     "output_type": "stream",
     "text": [
      "vaaag sala\n"
     ]
    }
   ],
   "source": [
    "x=int(input(\"Enter X:\"))\n",
    "y=int(input(\"Enter Y:\"))\n",
    "\n",
    "if x>=y:\n",
    "    if x==5 or y==5 and y>=4:\n",
    "        print(\"Fine! you're good to go\")\n",
    "    elif x==6 and y<5:\n",
    "        print(\"Eitao chole\")\n",
    "else:print( \"vaaag sala\")        "
   ]
  },
  {
   "cell_type": "code",
   "execution_count": 5,
   "metadata": {},
   "outputs": [
    {
     "data": {
      "text/plain": [
       "False"
      ]
     },
     "execution_count": 5,
     "metadata": {},
     "output_type": "execute_result"
    }
   ],
   "source": [
    "x == y"
   ]
  },
  {
   "cell_type": "code",
   "execution_count": 10,
   "metadata": {},
   "outputs": [
    {
     "name": "stdin",
     "output_type": "stream",
     "text": [
      " 5\n",
      " 6\n"
     ]
    },
    {
     "name": "stdout",
     "output_type": "stream",
     "text": [
      "sum of the numbers 11\n"
     ]
    }
   ],
   "source": [
    "a=int(input())\n",
    "b=int(input())\n",
    "\n",
    "def SUM(a,b):\n",
    "    print(\"sum of the numbers\",a+b)\n",
    "    \n",
    "SUM(a,b)    \n",
    "    "
   ]
  },
  {
   "cell_type": "code",
   "execution_count": 18,
   "metadata": {},
   "outputs": [
    {
     "name": "stdout",
     "output_type": "stream",
     "text": [
      "3\n",
      "4\n",
      "5\n",
      "6\n",
      "7\n",
      "8\n",
      "9\n",
      "10\n",
      "11\n",
      "12\n"
     ]
    }
   ],
   "source": [
    "for x in range(0,10):\n",
    "    x += 3\n",
    "    print(x)\n",
    "   "
   ]
  },
  {
   "cell_type": "code",
   "execution_count": 20,
   "metadata": {},
   "outputs": [
    {
     "name": "stdin",
     "output_type": "stream",
     "text": [
      "input something:  hamba\n"
     ]
    },
    {
     "name": "stdout",
     "output_type": "stream",
     "text": [
      "hamba\n"
     ]
    },
    {
     "name": "stdin",
     "output_type": "stream",
     "text": [
      "input something:  goru\n"
     ]
    },
    {
     "name": "stdout",
     "output_type": "stream",
     "text": [
      "goru\n"
     ]
    },
    {
     "name": "stdin",
     "output_type": "stream",
     "text": [
      "input something:  stop\n"
     ]
    }
   ],
   "source": [
    "loop = True\n",
    "\n",
    "while loop:\n",
    "    name=input(\"input something: \")\n",
    "    if name == \"stop\":\n",
    "        break\n",
    "    else: print(name)    "
   ]
  },
  {
   "cell_type": "code",
   "execution_count": 21,
   "metadata": {},
   "outputs": [],
   "source": [
    "fruits=['apple','banana', 'orange']"
   ]
  },
  {
   "cell_type": "code",
   "execution_count": 23,
   "metadata": {},
   "outputs": [
    {
     "data": {
      "text/plain": [
       "'orange'"
      ]
     },
     "execution_count": 23,
     "metadata": {},
     "output_type": "execute_result"
    }
   ],
   "source": [
    "fruits[2]"
   ]
  },
  {
   "cell_type": "code",
   "execution_count": 24,
   "metadata": {},
   "outputs": [
    {
     "data": {
      "text/plain": [
       "['banana', 'orange']"
      ]
     },
     "execution_count": 24,
     "metadata": {},
     "output_type": "execute_result"
    }
   ],
   "source": [
    "fruits[1:3]"
   ]
  },
  {
   "cell_type": "code",
   "execution_count": 25,
   "metadata": {},
   "outputs": [],
   "source": [
    "fruits.append('grape')"
   ]
  },
  {
   "cell_type": "code",
   "execution_count": 28,
   "metadata": {},
   "outputs": [
    {
     "data": {
      "text/plain": [
       "['apple', 'banana', 'orange', 'grape']"
      ]
     },
     "execution_count": 28,
     "metadata": {},
     "output_type": "execute_result"
    }
   ],
   "source": [
    "fruits"
   ]
  },
  {
   "cell_type": "code",
   "execution_count": 29,
   "metadata": {},
   "outputs": [],
   "source": [
    "fruits[0]='lichy'"
   ]
  },
  {
   "cell_type": "code",
   "execution_count": 30,
   "metadata": {},
   "outputs": [
    {
     "data": {
      "text/plain": [
       "['lichy', 'banana', 'orange', 'grape']"
      ]
     },
     "execution_count": 30,
     "metadata": {},
     "output_type": "execute_result"
    }
   ],
   "source": [
    "fruits"
   ]
  },
  {
   "cell_type": "code",
   "execution_count": 33,
   "metadata": {},
   "outputs": [
    {
     "name": "stdout",
     "output_type": "stream",
     "text": [
      "1 . lichy\n",
      "2 . banana\n",
      "3 . orange\n",
      "4 . grape\n"
     ]
    }
   ],
   "source": [
    "b=0\n",
    "for a in fruits:\n",
    "    b+=1\n",
    "    print(b,'.',a)"
   ]
  },
  {
   "cell_type": "code",
   "execution_count": 34,
   "metadata": {},
   "outputs": [
    {
     "name": "stdout",
     "output_type": "stream",
     "text": [
      "not banana\n",
      "banana\n",
      "not banana\n",
      "not banana\n"
     ]
    }
   ],
   "source": [
    "for a in fruits:\n",
    "    if a=='banana':\n",
    "        print(\"banana\")\n",
    "    else: print(\"not banana\")    "
   ]
  },
  {
   "cell_type": "code",
   "execution_count": 36,
   "metadata": {},
   "outputs": [
    {
     "name": "stdout",
     "output_type": "stream",
     "text": [
      "not banana\n",
      "banana\n",
      "not banana\n",
      "not banana\n"
     ]
    }
   ],
   "source": [
    "for a in range(len(fruits)):\n",
    "    if fruits[a] == \"banana\":\n",
    "        print('banana')\n",
    "    else: print('not banana')    "
   ]
  },
  {
   "cell_type": "code",
   "execution_count": 37,
   "metadata": {},
   "outputs": [],
   "source": [
    "# .strip(), .len(), .lower(),  .upper(),  .split()"
   ]
  },
  {
   "cell_type": "code",
   "execution_count": 52,
   "metadata": {},
   "outputs": [
    {
     "name": "stdin",
     "output_type": "stream",
     "text": [
      "type:  the cat is a dirty animal\n"
     ]
    },
    {
     "name": "stdout",
     "output_type": "stream",
     "text": [
      "['the c', 't is ', ' dirty ', 'nim', 'l']\n",
      "5\n"
     ]
    }
   ],
   "source": [
    "a=input(\"type: \")\n",
    "\n",
    "# print(a.strip())\n",
    "# print(len(a))\n",
    "# print(a.lower())\n",
    "# print(a.upper())\n",
    "print(a.split('a'))\n",
    "print(len(a.split('a')))"
   ]
  },
  {
   "cell_type": "code",
   "execution_count": 77,
   "metadata": {},
   "outputs": [
    {
     "name": "stdout",
     "output_type": "stream",
     "text": [
      "pkf\n"
     ]
    }
   ],
   "source": [
    "text='abcdefghijklmnop'\n",
    "print(text[:2:-5])"
   ]
  },
  {
   "cell_type": "code",
   "execution_count": 68,
   "metadata": {},
   "outputs": [
    {
     "data": {
      "text/plain": [
       "['apple', 'banana', 'grape', 'orange']"
      ]
     },
     "execution_count": 68,
     "metadata": {},
     "output_type": "execute_result"
    }
   ],
   "source": [
    "fruits=['apple','banana', 'orange']\n",
    "fruits[2:2]=[\"grape\"]\n",
    "# fruits.insert(2,\"grape\")\n",
    "\n",
    "fruits"
   ]
  },
  {
   "cell_type": "code",
   "execution_count": 78,
   "metadata": {},
   "outputs": [
    {
     "data": {
      "text/plain": [
       "7"
      ]
     },
     "execution_count": 78,
     "metadata": {},
     "output_type": "execute_result"
    }
   ],
   "source": [
    "def addtwo(a):\n",
    "    return a+2\n",
    "\n",
    "def subtwo(a):\n",
    "    return a-2\n",
    "\n",
    "addtwo(5)"
   ]
  },
  {
   "cell_type": "code",
   "execution_count": 11,
   "metadata": {},
   "outputs": [
    {
     "data": {
      "text/plain": [
       "['hello', 'shikhar', 'python', 'practicing']"
      ]
     },
     "execution_count": 11,
     "metadata": {},
     "output_type": "execute_result"
    }
   ],
   "source": [
    "file=open('test.txt','r')\n",
    "\n",
    "a=file.readlines()\n",
    "\n",
    "newlist= []\n",
    "\n",
    "# for line in a:\n",
    "#     if line[-1] == '\\n':\n",
    "#         newlist.append(line[:-1])   # :-1 means it will skip the last character\n",
    "#     else: newlist.append(line)\n",
    "# newlist    \n",
    "\n",
    "for line in a:\n",
    "    newlist.append(line.strip())\n",
    "    \n",
    "file.close()    \n",
    "newlist    "
   ]
  },
  {
   "cell_type": "code",
   "execution_count": 12,
   "metadata": {},
   "outputs": [],
   "source": [
    "file = open('test.txt','w')\n",
    "\n",
    "file.write(\"python\\n\")\n",
    "file.write(\"this is shikhar wh\n",
    "\n",
    "file.close()"
   ]
  },
  {
   "cell_type": "code",
   "execution_count": 15,
   "metadata": {},
   "outputs": [
    {
     "name": "stdout",
     "output_type": "stream",
     "text": [
      "2\n"
     ]
    }
   ],
   "source": [
    "# .find(),  .count()\n",
    "\n",
    "string=\"hello\"\n",
    "# print(string.find('l'))\n",
    "\n",
    "print(string.count('l'))"
   ]
  },
  {
   "cell_type": "code",
   "execution_count": 17,
   "metadata": {},
   "outputs": [
    {
     "name": "stdin",
     "output_type": "stream",
     "text": [
      "type something:  hello _\n"
     ]
    },
    {
     "name": "stdout",
     "output_type": "stream",
     "text": [
      "not good\n"
     ]
    }
   ],
   "source": [
    "string=input(\"type something: \")\n",
    "\n",
    "if string.count('_')>0:\n",
    "    print(\"not good\")\n",
    "else: print(\"good\")    "
   ]
  },
  {
   "cell_type": "code",
   "execution_count": 20,
   "metadata": {},
   "outputs": [
    {
     "data": {
      "text/plain": [
       "1.0471975511965976"
      ]
     },
     "execution_count": 20,
     "metadata": {},
     "output_type": "execute_result"
    }
   ],
   "source": [
    "import math\n",
    "\n",
    "math.pi\n",
    "math.radians(60)"
   ]
  },
  {
   "cell_type": "code",
   "execution_count": 22,
   "metadata": {},
   "outputs": [
    {
     "name": "stdout",
     "output_type": "stream",
     "text": [
      "4\n",
      "text is not two\n",
      "3\n",
      "text is not two\n"
     ]
    }
   ],
   "source": [
    "def func(x=3, text=2):\n",
    "    print(x)\n",
    "    if text == \"1\":\n",
    "        print(\"text is 1\")\n",
    "    else: print(\"text is not two\")\n",
    "        \n",
    "func(4,5)     \n",
    "func()"
   ]
  },
  {
   "cell_type": "code",
   "execution_count": 25,
   "metadata": {},
   "outputs": [
    {
     "name": "stdin",
     "output_type": "stream",
     "text": [
      "username: this\n"
     ]
    },
    {
     "name": "stdout",
     "output_type": "stream",
     "text": [
      "this is not a number\n"
     ]
    }
   ],
   "source": [
    "text=input(\"username:\")\n",
    "\n",
    "try:\n",
    "    number=int(text)\n",
    "    print(number)\n",
    "    \n",
    "except: print(\"this is not a number\")    "
   ]
  },
  {
   "cell_type": "code",
   "execution_count": 29,
   "metadata": {},
   "outputs": [
    {
     "ename": "TypeError",
     "evalue": "__init__() takes 1 positional argument but 2 were given",
     "output_type": "error",
     "traceback": [
      "\u001b[1;31m---------------------------------------------------------------------------\u001b[0m",
      "\u001b[1;31mTypeError\u001b[0m                                 Traceback (most recent call last)",
      "\u001b[1;32m<ipython-input-29-9a010caaf70a>\u001b[0m in \u001b[0;36m<module>\u001b[1;34m\u001b[0m\n\u001b[0;32m     10\u001b[0m         \u001b[0mprint\u001b[0m\u001b[1;33m(\u001b[0m\u001b[0mx\u001b[0m\u001b[1;33m)\u001b[0m\u001b[1;33m\u001b[0m\u001b[1;33m\u001b[0m\u001b[0m\n\u001b[0;32m     11\u001b[0m \u001b[1;33m\u001b[0m\u001b[0m\n\u001b[1;32m---> 12\u001b[1;33m \u001b[0mnum\u001b[0m\u001b[1;33m=\u001b[0m\u001b[0mnumber\u001b[0m\u001b[1;33m(\u001b[0m\u001b[1;36m23\u001b[0m\u001b[1;33m)\u001b[0m\u001b[1;33m\u001b[0m\u001b[1;33m\u001b[0m\u001b[0m\n\u001b[0m\u001b[0;32m     13\u001b[0m \u001b[0mprint\u001b[0m\u001b[1;33m(\u001b[0m\u001b[0mnum\u001b[0m\u001b[1;33m)\u001b[0m\u001b[1;33m\u001b[0m\u001b[1;33m\u001b[0m\u001b[0m\n",
      "\u001b[1;31mTypeError\u001b[0m: __init__() takes 1 positional argument but 2 were given"
     ]
    }
   ],
   "source": [
    "x=\"string\"\n",
    "y=23\n",
    "boo=True\n",
    "\n",
    "class number():\n",
    "    def __init__(self):\n",
    "        self.var=24\n",
    "        \n",
    "    def display(self,x):\n",
    "        print(x)\n",
    "        \n",
    "num=number(23)\n",
    "\n",
    "print(num)"
   ]
  },
  {
   "cell_type": "code",
   "execution_count": null,
   "metadata": {},
   "outputs": [],
   "source": []
  }
 ],
 "metadata": {
  "kernelspec": {
   "display_name": "Python 3",
   "language": "python",
   "name": "python3"
  },
  "language_info": {
   "codemirror_mode": {
    "name": "ipython",
    "version": 3
   },
   "file_extension": ".py",
   "mimetype": "text/x-python",
   "name": "python",
   "nbconvert_exporter": "python",
   "pygments_lexer": "ipython3",
   "version": "3.8.5"
  }
 },
 "nbformat": 4,
 "nbformat_minor": 4
}
