{
  "nbformat": 4,
  "nbformat_minor": 0,
  "metadata": {
    "colab": {
      "name": "python practice",
      "provenance": [],
      "collapsed_sections": [],
      "authorship_tag": "ABX9TyOe5k2I/mRQ09f5HvvnxlcS",
      "include_colab_link": true
    },
    "kernelspec": {
      "name": "python3",
      "display_name": "Python 3",
      "language": "python"
    }
  },
  "cells": [
    {
      "cell_type": "markdown",
      "metadata": {
        "id": "view-in-github",
        "colab_type": "text"
      },
      "source": [
        "<a href=\"https://colab.research.google.com/github/thisIsShikhar/python_practice/blob/master/python_practice.ipynb\" target=\"_parent\"><img src=\"https://colab.research.google.com/assets/colab-badge.svg\" alt=\"Open In Colab\"/></a>"
      ]
    },
    {
      "cell_type": "code",
      "metadata": {
        "id": "7hDeT84G_rmi",
        "colab_type": "code",
        "outputId": "519e9e3a-0db5-4191-d06f-6cf0ee8c910c",
        "colab": {
          "base_uri": "https://localhost:8080/",
          "height": 170
        }
      },
      "source": [
        "a=[]\n",
        "while True:\n",
        "    number=input(\"enter the number:\")\n",
        "\n",
        "    if number==\"done\":\n",
        "        break\n",
        "    else:  \n",
        "      try:\n",
        "        number==float() \n",
        "        a.append(int(number))\n",
        "        continue\n",
        "      except:\n",
        "        pass\n",
        "\n",
        "print(\"The maximum input:\",max(a))  \n",
        "print(\"The minimum input:\",min(a))   \n",
        "print(\"The total input:\",sum(a))   "
      ],
      "execution_count": 1,
      "outputs": [
        {
          "output_type": "error",
          "ename": "ValueError",
          "evalue": "max() arg is an empty sequence",
          "traceback": [
            "\u001b[0;31m---------------------------------------------------------------------------\u001b[0m",
            "\u001b[0;31mValueError\u001b[0m                                Traceback (most recent call last)",
            "\u001b[0;32m<ipython-input-1-af745fdf5e4e>\u001b[0m in \u001b[0;36m<module>\u001b[0;34m\u001b[0m\n\u001b[1;32m     13\u001b[0m         \u001b[0;32mpass\u001b[0m\u001b[0;34m\u001b[0m\u001b[0;34m\u001b[0m\u001b[0m\n\u001b[1;32m     14\u001b[0m \u001b[0;34m\u001b[0m\u001b[0m\n\u001b[0;32m---> 15\u001b[0;31m \u001b[0mprint\u001b[0m\u001b[0;34m(\u001b[0m\u001b[0;34m\"The maximum input:\"\u001b[0m\u001b[0;34m,\u001b[0m\u001b[0mmax\u001b[0m\u001b[0;34m(\u001b[0m\u001b[0ma\u001b[0m\u001b[0;34m)\u001b[0m\u001b[0;34m)\u001b[0m\u001b[0;34m\u001b[0m\u001b[0;34m\u001b[0m\u001b[0m\n\u001b[0m\u001b[1;32m     16\u001b[0m \u001b[0mprint\u001b[0m\u001b[0;34m(\u001b[0m\u001b[0;34m\"The minimum input:\"\u001b[0m\u001b[0;34m,\u001b[0m\u001b[0mmin\u001b[0m\u001b[0;34m(\u001b[0m\u001b[0ma\u001b[0m\u001b[0;34m)\u001b[0m\u001b[0;34m)\u001b[0m\u001b[0;34m\u001b[0m\u001b[0;34m\u001b[0m\u001b[0m\n\u001b[1;32m     17\u001b[0m \u001b[0mprint\u001b[0m\u001b[0;34m(\u001b[0m\u001b[0;34m\"The total input:\"\u001b[0m\u001b[0;34m,\u001b[0m\u001b[0msum\u001b[0m\u001b[0;34m(\u001b[0m\u001b[0ma\u001b[0m\u001b[0;34m)\u001b[0m\u001b[0;34m)\u001b[0m\u001b[0;34m\u001b[0m\u001b[0;34m\u001b[0m\u001b[0m\n",
            "\u001b[0;31mValueError\u001b[0m: max() arg is an empty sequence"
          ]
        }
      ]
    },
    {
      "cell_type": "code",
      "execution_count": 10,
      "metadata": {},
      "outputs": [],
      "source": [
        "from array import*\n",
        "array1=array('B',[10,20,30,40,50])"
      ]
    },
    {
      "cell_type": "code",
      "execution_count": 11,
      "metadata": {},
      "outputs": [
        {
          "output_type": "stream",
          "name": "stdout",
          "text": [
            "10\n20\n30\n40\n50\n"
          ]
        }
      ],
      "source": [
        "for x in array1:\n",
        "    print(x)"
      ]
    },
    {
      "cell_type": "code",
      "execution_count": 13,
      "metadata": {},
      "outputs": [],
      "source": [
        "array1.insert(3,99)"
      ]
    },
    {
      "cell_type": "code",
      "execution_count": 14,
      "metadata": {},
      "outputs": [
        {
          "output_type": "stream",
          "name": "stdout",
          "text": [
            "array('B', [10, 20, 30, 99, 40, 50])\n"
          ]
        }
      ],
      "source": [
        "print(array1)"
      ]
    },
    {
      "cell_type": "code",
      "execution_count": 18,
      "metadata": {},
      "outputs": [],
      "source": [
        "a={'name':['shikhar','sabbir','monwar','kibria'], 'age':25, 'height':6}"
      ]
    },
    {
      "cell_type": "code",
      "execution_count": 25,
      "metadata": {},
      "outputs": [
        {
          "output_type": "execute_result",
          "data": {
            "text/plain": [
              "('shikhar', 'sabbir', 'monwar', 'kibria')"
            ]
          },
          "metadata": {},
          "execution_count": 25
        }
      ],
      "source": [
        "a['name']"
      ]
    },
    {
      "cell_type": "code",
      "execution_count": 26,
      "metadata": {},
      "outputs": [
        {
          "output_type": "execute_result",
          "data": {
            "text/plain": [
              "[7, 8, 9]"
            ]
          },
          "metadata": {},
          "execution_count": 26
        }
      ],
      "source": [
        "from array import*\n",
        "\n",
        "a=[[1,2,3],[4,5,6],[7,8,9]]\n",
        "\n",
        "a[2]"
      ]
    },
    {
      "cell_type": "code",
      "execution_count": 27,
      "metadata": {},
      "outputs": [],
      "source": [
        "del a[2]"
      ]
    },
    {
      "cell_type": "code",
      "execution_count": 28,
      "metadata": {},
      "outputs": [
        {
          "output_type": "execute_result",
          "data": {
            "text/plain": [
              "[[1, 2, 3], [4, 5, 6]]"
            ]
          },
          "metadata": {},
          "execution_count": 28
        }
      ],
      "source": [
        "a"
      ]
    },
    {
      "cell_type": "code",
      "execution_count": 30,
      "metadata": {},
      "outputs": [
        {
          "output_type": "stream",
          "name": "stdout",
          "text": [
            "1 2 3 \n4 5 6 \n"
          ]
        }
      ],
      "source": [
        "for x in a:\n",
        "    for y in x:\n",
        "        print(y, end=\" \")\n",
        "    print()"
      ]
    },
    {
      "cell_type": "code",
      "execution_count": 31,
      "metadata": {},
      "outputs": [],
      "source": [
        "from numpy import * \n",
        "a = array([['Mon',18,20,22,17],['Tue',11,18,21,18],\n",
        "\t\t   ['Wed',15,21,20,19],['Thu',11,20,22,21],\n",
        "\t\t   ['Fri',18,17,23,22],['Sat',12,22,20,18],\n",
        "\t\t   ['Sun',13,15,19,16]])"
      ]
    },
    {
      "cell_type": "code",
      "execution_count": 32,
      "metadata": {},
      "outputs": [
        {
          "output_type": "execute_result",
          "data": {
            "text/plain": [
              "array([['Mon', '18', '20', '22', '17'],\n",
              "       ['Tue', '11', '18', '21', '18'],\n",
              "       ['Wed', '15', '21', '20', '19'],\n",
              "       ['Thu', '11', '20', '22', '21'],\n",
              "       ['Fri', '18', '17', '23', '22'],\n",
              "       ['Sat', '12', '22', '20', '18'],\n",
              "       ['Sun', '13', '15', '19', '16']], dtype='<U3')"
            ]
          },
          "metadata": {},
          "execution_count": 32
        }
      ],
      "source": [
        "a"
      ]
    },
    {
      "cell_type": "code",
      "execution_count": 33,
      "metadata": {},
      "outputs": [],
      "source": [
        "m=reshape(a,(7,5))"
      ]
    },
    {
      "cell_type": "code",
      "execution_count": 34,
      "metadata": {},
      "outputs": [
        {
          "output_type": "execute_result",
          "data": {
            "text/plain": [
              "array([['Mon', '18', '20', '22', '17'],\n",
              "       ['Tue', '11', '18', '21', '18'],\n",
              "       ['Wed', '15', '21', '20', '19'],\n",
              "       ['Thu', '11', '20', '22', '21'],\n",
              "       ['Fri', '18', '17', '23', '22'],\n",
              "       ['Sat', '12', '22', '20', '18'],\n",
              "       ['Sun', '13', '15', '19', '16']], dtype='<U3')"
            ]
          },
          "metadata": {},
          "execution_count": 34
        }
      ],
      "source": [
        "m"
      ]
    },
    {
      "cell_type": "code",
      "execution_count": 38,
      "metadata": {},
      "outputs": [],
      "source": [
        "m_r=append(m,[['avg',12,14,15,16]],0)"
      ]
    },
    {
      "cell_type": "code",
      "execution_count": 36,
      "metadata": {},
      "outputs": [
        {
          "output_type": "execute_result",
          "data": {
            "text/plain": [
              "array([['Mon', '18', '20', '22', '17'],\n",
              "       ['Tue', '11', '18', '21', '18'],\n",
              "       ['Wed', '15', '21', '20', '19'],\n",
              "       ['Thu', '11', '20', '22', '21'],\n",
              "       ['Fri', '18', '17', '23', '22'],\n",
              "       ['Sat', '12', '22', '20', '18'],\n",
              "       ['Sun', '13', '15', '19', '16'],\n",
              "       ['avg', '12', '14', '15', '16']], dtype='<U3')"
            ]
          },
          "metadata": {},
          "execution_count": 36
        }
      ],
      "source": [
        "m_r"
      ]
    },
    {
      "cell_type": "code",
      "execution_count": 41,
      "metadata": {},
      "outputs": [],
      "source": [
        "m_r=insert(m,[5],[[21],[12],[14],[15],[16],[61],[71]],1)"
      ]
    },
    {
      "cell_type": "code",
      "execution_count": 42,
      "metadata": {},
      "outputs": [
        {
          "output_type": "execute_result",
          "data": {
            "text/plain": [
              "array([['Mon', '18', '20', '22', '17', '21'],\n",
              "       ['Tue', '11', '18', '21', '18', '12'],\n",
              "       ['Wed', '15', '21', '20', '19', '14'],\n",
              "       ['Thu', '11', '20', '22', '21', '15'],\n",
              "       ['Fri', '18', '17', '23', '22', '16'],\n",
              "       ['Sat', '12', '22', '20', '18', '61'],\n",
              "       ['Sun', '13', '15', '19', '16', '71']], dtype='<U3')"
            ]
          },
          "metadata": {},
          "execution_count": 42
        }
      ],
      "source": [
        "m_r"
      ]
    },
    {
      "cell_type": "code",
      "execution_count": null,
      "metadata": {},
      "outputs": [],
      "source": []
    },
    {
      "cell_type": "code",
      "execution_count": 44,
      "metadata": {},
      "outputs": [],
      "source": [
        "a={'apple','banana','grape','orange'}\n",
        "b={'apple','lichi','coconut','nut'}\n",
        "\n",
        "c=a|b"
      ]
    },
    {
      "cell_type": "code",
      "execution_count": 45,
      "metadata": {},
      "outputs": [
        {
          "output_type": "execute_result",
          "data": {
            "text/plain": [
              "{'apple', 'banana', 'coconut', 'grape', 'lichi', 'nut', 'orange'}"
            ]
          },
          "metadata": {},
          "execution_count": 45
        }
      ],
      "source": [
        "c"
      ]
    },
    {
      "cell_type": "code",
      "execution_count": 46,
      "metadata": {},
      "outputs": [],
      "source": [
        "d=a&b"
      ]
    },
    {
      "cell_type": "code",
      "execution_count": 47,
      "metadata": {},
      "outputs": [
        {
          "output_type": "execute_result",
          "data": {
            "text/plain": [
              "{'apple'}"
            ]
          },
          "metadata": {},
          "execution_count": 47
        }
      ],
      "source": [
        "d"
      ]
    },
    {
      "cell_type": "code",
      "execution_count": 49,
      "metadata": {},
      "outputs": [],
      "source": [
        "import collections"
      ]
    },
    {
      "cell_type": "code",
      "execution_count": 50,
      "metadata": {},
      "outputs": [],
      "source": [
        "a={'day1':'sat','day2':'sun'}\n",
        "b={'day3':'mon','day1':'tue'}\n",
        "\n",
        "c=collections.ChainMap(a,b)"
      ]
    },
    {
      "cell_type": "code",
      "execution_count": 57,
      "metadata": {},
      "outputs": [
        {
          "output_type": "stream",
          "name": "stdout",
          "text": [
            "[{'day1': 'sat', 'day2': 'sun'}, {'day3': 'mon', 'day1': 'tue'}]\n"
          ]
        }
      ],
      "source": [
        "print(c.maps)"
      ]
    },
    {
      "cell_type": "code",
      "execution_count": 52,
      "metadata": {},
      "outputs": [
        {
          "output_type": "stream",
          "name": "stdout",
          "text": [
            "keys=['day3', 'day1', 'day2']\n"
          ]
        }
      ],
      "source": [
        "print(f\"keys={list(c.keys())}\")"
      ]
    },
    {
      "cell_type": "code",
      "execution_count": 72,
      "metadata": {},
      "outputs": [],
      "source": [
        "class A:\n",
        "    def __init__(self,name,color):\n",
        "        self.name=name \n",
        "        self.color=color \n",
        "\n",
        "    def __str__(self):\n",
        "        return f\"this is {self.name} and {self.color} is it's color\"\n",
        "\n"
      ]
    },
    {
      "cell_type": "code",
      "execution_count": 73,
      "metadata": {},
      "outputs": [],
      "source": [
        "b=A('chief','white')"
      ]
    },
    {
      "cell_type": "code",
      "execution_count": 74,
      "metadata": {},
      "outputs": [
        {
          "output_type": "execute_result",
          "data": {
            "text/plain": [
              "'chief'"
            ]
          },
          "metadata": {},
          "execution_count": 74
        }
      ],
      "source": [
        "b.name"
      ]
    },
    {
      "cell_type": "code",
      "execution_count": 75,
      "metadata": {},
      "outputs": [
        {
          "output_type": "execute_result",
          "data": {
            "text/plain": [
              "<__main__.A at 0x7f50b00f19a0>"
            ]
          },
          "metadata": {},
          "execution_count": 75
        }
      ],
      "source": [
        "A('chief','white')"
      ]
    },
    {
      "cell_type": "code",
      "execution_count": 76,
      "metadata": {},
      "outputs": [],
      "source": [
        "c=A('aa','ff')"
      ]
    },
    {
      "cell_type": "code",
      "execution_count": 77,
      "metadata": {},
      "outputs": [
        {
          "output_type": "stream",
          "name": "stdout",
          "text": [
            "this is aa and ff is it's color\n"
          ]
        }
      ],
      "source": [
        "print(c)"
      ]
    },
    {
      "cell_type": "code",
      "execution_count": 78,
      "metadata": {},
      "outputs": [],
      "source": [
        "class Node:\n",
        "    def __init__(self,dataval=None):\n",
        "        self.dataval=dataval\n",
        "        self.nextval=None\n",
        "class SlinkedList:\n",
        "    def __init__(self):\n",
        "        self.headval=None "
      ]
    },
    {
      "cell_type": "code",
      "execution_count": 79,
      "metadata": {},
      "outputs": [],
      "source": [
        "list1=SlinkedList()\n",
        "list1.headval=Node(\"Mon\")\n",
        "e2=Node(\"Tue\")\n",
        "e3=Node(\"Wed\")"
      ]
    },
    {
      "cell_type": "code",
      "execution_count": 80,
      "metadata": {},
      "outputs": [],
      "source": [
        "list1.headval.nextval=e2"
      ]
    },
    {
      "cell_type": "code",
      "execution_count": 81,
      "metadata": {},
      "outputs": [],
      "source": [
        "e2.nextval=e3"
      ]
    },
    {
      "cell_type": "code",
      "execution_count": 82,
      "metadata": {},
      "outputs": [
        {
          "output_type": "error",
          "ename": "AttributeError",
          "evalue": "'SlinkedList' object has no attribute 'listprint'",
          "traceback": [
            "\u001b[0;31m---------------------------------------------------------------------------\u001b[0m",
            "\u001b[0;31mAttributeError\u001b[0m                            Traceback (most recent call last)",
            "\u001b[0;32m<ipython-input-82-ddcd44d29dbf>\u001b[0m in \u001b[0;36m<module>\u001b[0;34m\u001b[0m\n\u001b[0;32m----> 1\u001b[0;31m \u001b[0mlist1\u001b[0m\u001b[0;34m.\u001b[0m\u001b[0mlistprint\u001b[0m\u001b[0;34m(\u001b[0m\u001b[0;34m)\u001b[0m\u001b[0;34m\u001b[0m\u001b[0;34m\u001b[0m\u001b[0m\n\u001b[0m",
            "\u001b[0;31mAttributeError\u001b[0m: 'SlinkedList' object has no attribute 'listprint'"
          ]
        }
      ],
      "source": []
    },
    {
      "cell_type": "code",
      "execution_count": null,
      "metadata": {},
      "outputs": [],
      "source": []
    }
  ]
}