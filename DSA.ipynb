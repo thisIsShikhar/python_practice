{
 "metadata": {
  "language_info": {
   "codemirror_mode": {
    "name": "ipython",
    "version": 3
   },
   "file_extension": ".py",
   "mimetype": "text/x-python",
   "name": "python",
   "nbconvert_exporter": "python",
   "pygments_lexer": "ipython3",
   "version": "3.8.5-final"
  },
  "orig_nbformat": 2,
  "kernelspec": {
   "name": "python3",
   "display_name": "Python 3",
   "language": "python"
  }
 },
 "nbformat": 4,
 "nbformat_minor": 2,
 "cells": [
  {
   "source": [
    "Linked List"
   ],
   "cell_type": "markdown",
   "metadata": {}
  },
  {
   "cell_type": "code",
   "execution_count": 7,
   "metadata": {},
   "outputs": [
    {
     "output_type": "stream",
     "name": "stdout",
     "text": [
      "[]\n"
     ]
    }
   ],
   "source": [
    "class Node:\n",
    "    def __init__(self,value):\n",
    "        self.next=None\n",
    "        self.prev=None\n",
    "        self.val=value\n",
    "\n",
    "class DoubleLinkedList:\n",
    "    def __init__(self):\n",
    "        self.head=None\n",
    "        self.tail=None\n",
    "        self.size=0\n",
    "\n",
    "    def add(self,val):\n",
    "        node=Node(val)\n",
    "        if self.tail is None:\n",
    "            self.head=node\n",
    "            self.tail=node\n",
    "            self.size+=1\n",
    "\n",
    "        else:\n",
    "            self.tail.next=node\n",
    "            node.prev=self.head\n",
    "            self.tail=node\n",
    "            self.size+=1\n",
    "\n",
    "    def __str__(self):\n",
    "        vals = []\n",
    "        node = self.head\n",
    "        while node is None:\n",
    "            vals.append(node.val)\n",
    "            node=node.next\n",
    "        return f\"[{', '.join(str(val) for val in vals)}]\"\n",
    "\n",
    "\n",
    "mlist=DoubleLinkedList()\n",
    "\n",
    "mlist.add(2)\n",
    "mlist.add(5)\n",
    "mlist.add(7)\n",
    "\n",
    "print(mlist)"
   ]
  },
  {
   "cell_type": "code",
   "execution_count": null,
   "metadata": {},
   "outputs": [],
   "source": []
  }
 ]
}