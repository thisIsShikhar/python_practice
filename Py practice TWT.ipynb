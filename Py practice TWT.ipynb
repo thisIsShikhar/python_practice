{
 "cells": [
  {
   "cell_type": "code",
   "execution_count": null,
   "metadata": {},
   "outputs": [],
   "source": [
    "age=int(input(\"input your age: \"))\n",
    "\n",
    "if age>=16:\n",
    "    print(\"Cool!\")\n",
    "else:\n",
    "    print(\"Oh no!\")\n",
    "    "
   ]
  },
  {
   "cell_type": "code",
   "execution_count": null,
   "metadata": {},
   "outputs": [],
   "source": [
    "x=int(input(\"Enter X:\"))\n",
    "y=int(input(\"Enter Y:\"))\n",
    "\n",
    "if x>=y:\n",
    "    if x==5 or y==5 and y>=4:\n",
    "        print(\"Fine! you're good to go\")\n",
    "    elif x==6 and y<5:\n",
    "        print(\"Eitao chole\")\n",
    "else:print( \"vaaag sala\")        "
   ]
  },
  {
   "cell_type": "code",
   "execution_count": null,
   "metadata": {},
   "outputs": [],
   "source": [
    "x == y"
   ]
  },
  {
   "cell_type": "code",
   "execution_count": null,
   "metadata": {},
   "outputs": [],
   "source": [
    "a=int(input())\n",
    "b=int(input())\n",
    "\n",
    "def SUM(a,b):\n",
    "    print(\"sum of the numbers\",a+b)\n",
    "    \n",
    "SUM(a,b)    \n",
    "    "
   ]
  },
  {
   "cell_type": "code",
   "execution_count": null,
   "metadata": {},
   "outputs": [],
   "source": [
    "for x in range(0,10):\n",
    "    x += 3\n",
    "    print(x)\n",
    "   "
   ]
  },
  {
   "cell_type": "code",
   "execution_count": null,
   "metadata": {},
   "outputs": [],
   "source": [
    "loop = True\n",
    "\n",
    "while loop:\n",
    "    name=input(\"input something: \")\n",
    "    if name == \"stop\":\n",
    "        break\n",
    "    else: print(name)    "
   ]
  },
  {
   "cell_type": "code",
   "execution_count": null,
   "metadata": {},
   "outputs": [],
   "source": [
    "fruits=['apple','banana', 'orange']"
   ]
  },
  {
   "cell_type": "code",
   "execution_count": null,
   "metadata": {},
   "outputs": [],
   "source": [
    "fruits[2]"
   ]
  },
  {
   "cell_type": "code",
   "execution_count": null,
   "metadata": {},
   "outputs": [],
   "source": [
    "fruits[1:3]"
   ]
  },
  {
   "cell_type": "code",
   "execution_count": null,
   "metadata": {},
   "outputs": [],
   "source": [
    "fruits.append('grape')"
   ]
  },
  {
   "cell_type": "code",
   "execution_count": null,
   "metadata": {},
   "outputs": [],
   "source": [
    "fruits"
   ]
  },
  {
   "cell_type": "code",
   "execution_count": null,
   "metadata": {},
   "outputs": [],
   "source": [
    "fruits[0]='lichy'"
   ]
  },
  {
   "cell_type": "code",
   "execution_count": null,
   "metadata": {},
   "outputs": [],
   "source": [
    "fruits"
   ]
  },
  {
   "cell_type": "code",
   "execution_count": null,
   "metadata": {},
   "outputs": [],
   "source": [
    "b=0\n",
    "for a in fruits:\n",
    "    b+=1\n",
    "    print(b,'.',a)"
   ]
  },
  {
   "cell_type": "code",
   "execution_count": null,
   "metadata": {},
   "outputs": [],
   "source": [
    "for a in fruits:\n",
    "    if a=='banana':\n",
    "        print(\"banana\")\n",
    "    else: print(\"not banana\")    "
   ]
  },
  {
   "cell_type": "code",
   "execution_count": null,
   "metadata": {},
   "outputs": [],
   "source": [
    "for a in range(len(fruits)):\n",
    "    if fruits[a] == \"banana\":\n",
    "        print('banana')\n",
    "    else: print('not banana')    "
   ]
  },
  {
   "cell_type": "code",
   "execution_count": null,
   "metadata": {},
   "outputs": [],
   "source": [
    "# .strip(), .len(), .lower(),  .upper(),  .split()"
   ]
  },
  {
   "cell_type": "code",
   "execution_count": null,
   "metadata": {},
   "outputs": [],
   "source": [
    "a=input(\"type: \")\n",
    "\n",
    "# print(a.strip())\n",
    "# print(len(a))\n",
    "# print(a.lower())\n",
    "# print(a.upper())\n",
    "print(a.split('a'))\n",
    "print(len(a.split('a')))"
   ]
  },
  {
   "cell_type": "code",
   "execution_count": null,
   "metadata": {},
   "outputs": [],
   "source": [
    "text='abcdefghijklmnop'\n",
    "print(text[:2:-5])"
   ]
  },
  {
   "cell_type": "code",
   "execution_count": null,
   "metadata": {},
   "outputs": [],
   "source": [
    "fruits=['apple','banana', 'orange']\n",
    "fruits[2:2]=[\"grape\"]\n",
    "# fruits.insert(2,\"grape\")\n",
    "\n",
    "fruits"
   ]
  },
  {
   "cell_type": "code",
   "execution_count": null,
   "metadata": {},
   "outputs": [],
   "source": [
    "def addtwo(a):\n",
    "    return a+2\n",
    "\n",
    "def subtwo(a):\n",
    "    return a-2\n",
    "\n",
    "addtwo(5)"
   ]
  },
  {
   "cell_type": "code",
   "execution_count": null,
   "metadata": {},
   "outputs": [],
   "source": [
    "file=open('test.txt','r')\n",
    "\n",
    "a=file.readlines()\n",
    "\n",
    "newlist= []\n",
    "\n",
    "# for line in a:\n",
    "#     if line[-1] == '\\n':\n",
    "#         newlist.append(line[:-1])   # :-1 means it will skip the last character\n",
    "#     else: newlist.append(line)\n",
    "# newlist    \n",
    "\n",
    "for line in a:\n",
    "    newlist.append(line.strip())\n",
    "    \n",
    "file.close()    \n",
    "newlist    "
   ]
  },
  {
   "cell_type": "code",
   "execution_count": null,
   "metadata": {},
   "outputs": [],
   "source": [
    "file = open('test.txt','w')\n",
    "\n",
    "file.write(\"python\\n\")\n",
    "file.write(\"this is shikhar wh\n",
    "\n",
    "file.close()"
   ]
  },
  {
   "cell_type": "code",
   "execution_count": null,
   "metadata": {},
   "outputs": [],
   "source": [
    "# .find(),  .count()\n",
    "\n",
    "string=\"hello\"\n",
    "# print(string.find('l'))\n",
    "\n",
    "print(string.count('l'))"
   ]
  },
  {
   "cell_type": "code",
   "execution_count": null,
   "metadata": {},
   "outputs": [],
   "source": [
    "string=input(\"type something: \")\n",
    "\n",
    "if string.count('_')>0:\n",
    "    print(\"not good\")\n",
    "else: print(\"good\")    "
   ]
  },
  {
   "cell_type": "code",
   "execution_count": null,
   "metadata": {},
   "outputs": [],
   "source": [
    "import math\n",
    "\n",
    "math.pi\n",
    "math.radians(60)"
   ]
  },
  {
   "cell_type": "code",
   "execution_count": null,
   "metadata": {},
   "outputs": [],
   "source": [
    "def func(x=3, text=2):\n",
    "    print(x)\n",
    "    if text == \"1\":\n",
    "        print(\"text is 1\")\n",
    "    else: print(\"text is not two\")\n",
    "        \n",
    "func(4,5)     \n",
    "func()"
   ]
  },
  {
   "cell_type": "code",
   "execution_count": null,
   "metadata": {},
   "outputs": [],
   "source": [
    "text=input(\"username:\")\n",
    "\n",
    "try:\n",
    "    number=int(text)\n",
    "    print(number)\n",
    "    \n",
    "except: print(\"this is not a number\")    "
   ]
  },
  {
   "cell_type": "code",
   "execution_count": null,
   "metadata": {},
   "outputs": [],
   "source": [
    "x=\"string\"\n",
    "y=23\n",
    "boo=True\n",
    "\n",
    "class number():\n",
    "    def __init__(self):\n",
    "        self.var=24\n",
    "        \n",
    "    def display(x):\n",
    "        print(x)\n",
    "        \n",
    "num=number(23)\n",
    "\n",
    "print(num.display(6))"
   ]
  },
  {
   "cell_type": "code",
   "execution_count": null,
   "metadata": {},
   "outputs": [],
   "source": [
    "help(int)"
   ]
  },
  {
   "cell_type": "code",
   "execution_count": null,
   "metadata": {},
   "outputs": [],
   "source": [
    "def func(x):\n",
    "    return x+1\n",
    "func(5)    "
   ]
  },
  {
   "cell_type": "code",
   "execution_count": null,
   "metadata": {},
   "outputs": [],
   "source": [
    "a=\"abal\"\n",
    "print(a.replace(\"b\",\"k\"))"
   ]
  },
  {
   "source": [
    "class Dog(object):\n",
    "    def __init__(self,name,age):\n",
    "        print(\"nice! you are a gadha\")\n",
    "        self.name=name\n",
    "        self.age=age\n",
    "\n",
    "    def speak(self):\n",
    "        print(self.name,self.age)    \n",
    "\n",
    "    def change_name(self,name):\n",
    "        self.name=name\n",
    "\n",
    "    def change_age(self,age):\n",
    "        self.age=age       \n",
    "\n",
    "a=Dog(\"kutta\",5)\n",
    "a.change_name('kokor')\n",
    "a.change_age(12)\n",
    "\n",
    "a.speak()\n",
    "\n"
   ],
   "cell_type": "code",
   "metadata": {},
   "execution_count": 27,
   "outputs": [
    {
     "output_type": "stream",
     "name": "stdout",
     "text": [
      "nice! you are a gadha\nkokor 12\n"
     ]
    }
   ]
  },
  {
   "source": [],
   "cell_type": "markdown",
   "metadata": {}
  },
  {
   "cell_type": "code",
   "execution_count": 8,
   "metadata": {},
   "outputs": [
    {
     "output_type": "stream",
     "name": "stdout",
     "text": [
      "kukor 12\nmeaow\nBark\n"
     ]
    }
   ],
   "source": [
    "class Dog(object):\n",
    "    def __init__(self,name,age):\n",
    "        \n",
    "        self.name=name\n",
    "        self.age=age\n",
    "\n",
    "    def speak(self):\n",
    "        print(self.name,self.age)\n",
    "\n",
    "    def talk(self):\n",
    "        print(\"Bark\")\n",
    "\n",
    "\n",
    "# class Cat(object):\n",
    "#     def __init__(self,name,age,color):\n",
    "       \n",
    "#         self.name=name\n",
    "#         self.age=age\n",
    "#         self.color=color\n",
    "\n",
    "#     def speak(self):\n",
    "#         print(self.name,self.age)\n",
    "\n",
    "class Cat(Dog):\n",
    "    def __init__(self,name,age, color):\n",
    "        super().__init__(name,age)\n",
    "        self.color=color\n",
    "\n",
    "    \n",
    "    def talk(self):\n",
    "        print(\"meaow\")\n",
    "\n",
    "a=Cat(\"kukor\",12, \"green\")\n",
    "b=Dog(\"Kutta\", 12)\n",
    "a.speak()\n",
    "a.talk()\n",
    "b.talk()"
   ]
  },
  {
   "cell_type": "code",
   "execution_count": 12,
   "metadata": {},
   "outputs": [],
   "source": [
    "class vehicle():\n",
    "    def __init__(self,price, gas, color):\n",
    "        self.price=price\n",
    "        self.gas=gas\n",
    "        self.color=color\n",
    "\n",
    "    def filluptank(self):\n",
    "        self.gas=100\n",
    "\n",
    "    def emptytank(self):\n",
    "        self.gas=0\n",
    "\n",
    "    def gasleft(self):\n",
    "        return self.gas\n",
    "\n",
    "\n",
    "class car(vehicle):\n",
    "    def __init__(self,price,gas,color,speed):\n",
    "        super().__init__(price,gas,color)\n",
    "        self.speed=speed\n",
    "\n",
    "    def beep(self):\n",
    "        print(\"beep beep\")\n",
    "\n",
    "class Truck(vehicle):\n",
    "    def __init__(self,price,gas,color,tires):\n",
    "        super().__init__(price,gas,color)\n",
    "        self.tires=tires\n",
    "\n",
    "    def beep(self):\n",
    "        print(\"Pop Pop\")\n",
    "\n",
    "\n",
    "#inheritance example"
   ]
  },
  {
   "cell_type": "code",
   "execution_count": 22,
   "metadata": {},
   "outputs": [],
   "source": [
    "class point():\n",
    "    def __init__(self, x=0, y=0):\n",
    "        self.x=x\n",
    "        self.y=y\n",
    "        self.coords=(self.x,self.y)\n",
    "\n",
    "    def move(self, x, y):\n",
    "        self.x +=x\n",
    "        self.y +=y\n",
    "\n",
    "    def __add__(self,p):\n",
    "        return point(self.x+p.x, self.y+p.y)\n",
    "\n",
    "    def __sub__(self,p):\n",
    "        return point(self.x-p.x, self.y-p.y)\n",
    "\n",
    "\n",
    "p1 = point(3,4)\n",
    "p1 = point(3,4)\n",
    "p1 = point(3,4)\n",
    "p1 = point(3,4)\n"
   ]
  },
  {
   "cell_type": "code",
   "execution_count": null,
   "metadata": {},
   "outputs": [],
   "source": []
  }
 ],
 "metadata": {
  "kernelspec": {
   "display_name": "Python 3",
   "language": "python",
   "name": "python3"
  },
  "language_info": {
   "codemirror_mode": {
    "name": "ipython",
    "version": 3
   },
   "file_extension": ".py",
   "mimetype": "text/x-python",
   "name": "python",
   "nbconvert_exporter": "python",
   "pygments_lexer": "ipython3",
   "version": "3.8.5-final"
  }
 },
 "nbformat": 4,
 "nbformat_minor": 4
}