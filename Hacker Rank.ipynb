{
 "metadata": {
  "language_info": {
   "codemirror_mode": {
    "name": "ipython",
    "version": 3
   },
   "file_extension": ".py",
   "mimetype": "text/x-python",
   "name": "python",
   "nbconvert_exporter": "python",
   "pygments_lexer": "ipython3",
   "version": "3.8.5-final"
  },
  "orig_nbformat": 2,
  "kernelspec": {
   "name": "python3",
   "display_name": "Python 3",
   "language": "python"
  }
 },
 "nbformat": 4,
 "nbformat_minor": 2,
 "cells": [
  {
   "cell_type": "code",
   "execution_count": 12,
   "metadata": {},
   "outputs": [
    {
     "output_type": "stream",
     "name": "stdout",
     "text": [
      "Not Weird\n"
     ]
    }
   ],
   "source": [
    "#if-else\n",
    "\n",
    "a=int(input())\n",
    "\n",
    "if a%2!=0:\n",
    "    print('Weird')\n",
    "\n",
    "elif a%2==0 and a in range(2,5):\n",
    "    print('Not Weird')\n",
    "    \n",
    "elif a%2==0 and a in range(6,20):\n",
    "    print('Weird')\n",
    "\n",
    "elif a%2==0 and a>20:\n",
    "    print(\"Not Weird\")\n",
    "    \n",
    "else:\n",
    "    print(\"Weird\")"
   ]
  },
  {
   "cell_type": "code",
   "execution_count": null,
   "metadata": {},
   "outputs": [],
   "source": [
    "# Arithmetic Operators\n",
    "\n",
    "a=int(input())\n",
    "b=int(input())\n",
    "\n",
    "print(a+b)\n",
    "print(a-b)\n",
    "print(a*b)"
   ]
  }
 ]
}