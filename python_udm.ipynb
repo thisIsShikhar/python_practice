{
 "metadata": {
  "language_info": {
   "codemirror_mode": {
    "name": "ipython",
    "version": 3
   },
   "file_extension": ".py",
   "mimetype": "text/x-python",
   "name": "python",
   "nbconvert_exporter": "python",
   "pygments_lexer": "ipython3",
   "version": "3.8.5-final"
  },
  "orig_nbformat": 2,
  "kernelspec": {
   "name": "python3",
   "display_name": "Python 3.8.5 64-bit ('base': conda)",
   "metadata": {
    "interpreter": {
     "hash": "9fdd795d4f4970461231e8a078e4132ca4d1cd6e8bb9a2b128c86137cc427ec8"
    }
   }
  }
 },
 "nbformat": 4,
 "nbformat_minor": 2,
 "cells": [
  {
   "cell_type": "code",
   "execution_count": 2,
   "metadata": {},
   "outputs": [],
   "source": [
    "a=''' this this rahim's pen '''\n",
    "\n",
    "b= \"\"\" this is rahim's pen \"\"\"\n",
    "\n",
    "c= \" this is rahim's pen \"\n",
    "\n",
    "d= 'he said,\"you are a good boy\"'\n",
    "\n",
    "e = 'you\\t are\\t a\\t good\\t boy'\n",
    "\n",
    "f= 'this is rahim\\'s pen'\n",
    "\n",
    "g= 'print(\\'hello world\\')'"
   ]
  },
  {
   "cell_type": "code",
   "execution_count": 10,
   "metadata": {},
   "outputs": [
    {
     "output_type": "stream",
     "name": "stdout",
     "text": [
      "print('hello world')\n"
     ]
    }
   ],
   "source": [
    "print(g)"
   ]
  },
  {
   "cell_type": "code",
   "execution_count": 11,
   "metadata": {},
   "outputs": [
    {
     "output_type": "execute_result",
     "data": {
      "text/plain": [
       "6"
      ]
     },
     "metadata": {},
     "execution_count": 11
    }
   ],
   "source": []
  },
  {
   "cell_type": "code",
   "execution_count": 26,
   "metadata": {},
   "outputs": [
    {
     "output_type": "stream",
     "name": "stdout",
     "text": [
      "pi is approximately 170.67\n"
     ]
    }
   ],
   "source": [
    "print(\"pi is approximately {:.2f}\".format(512/3))"
   ]
  },
  {
   "cell_type": "code",
   "execution_count": 52,
   "metadata": {},
   "outputs": [
    {
     "output_type": "stream",
     "name": "stdout",
     "text": [
      "this is number 10\nthis is number 20\n"
     ]
    }
   ],
   "source": [
    "a=10\n",
    "b=20\n",
    "print(f\"this is number {a}\")\n",
    "print(\"this is number {0}\".format(b))"
   ]
  },
  {
   "cell_type": "code",
   "execution_count": 50,
   "metadata": {},
   "outputs": [
    {
     "output_type": "stream",
     "name": "stdout",
     "text": [
      "the sqare of  1 is    1 and qube is    1\nthe sqare of  2 is    4 and qube is    8\nthe sqare of  3 is    9 and qube is   27\nthe sqare of  4 is   16 and qube is   64\nthe sqare of  5 is   25 and qube is  125\nthe sqare of  6 is   36 and qube is  216\nthe sqare of  7 is   49 and qube is  343\nthe sqare of  8 is   64 and qube is  512\nthe sqare of  9 is   81 and qube is  729\nthe sqare of 10 is  100 and qube is 1000\nthe sqare of 11 is  121 and qube is 1331\nthe sqare of 12 is  144 and qube is 1728\nthe sqare of 13 is  169 and qube is 2197\nthe sqare of 14 is  196 and qube is 2744\n"
     ]
    }
   ],
   "source": [
    "for i in range(1,15):\n",
    "    print(\"the sqare of {0:2d} is {1:4d} and qube is {2:4d}\".format(i,i**2,i**3))\n",
    "    "
   ]
  },
  {
   "cell_type": "code",
   "execution_count": 56,
   "metadata": {},
   "outputs": [
    {
     "output_type": "stream",
     "name": "stdout",
     "text": [
      "1\n2\n3\n4\n5\n6\n7\n8\n9\n10\n11\n12\n13\n14\n"
     ]
    }
   ],
   "source": [
    "for i in range(1,15):\n",
    " print(i)  #atleast one space is needed for indentation"
   ]
  },
  {
   "cell_type": "code",
   "execution_count": 59,
   "metadata": {},
   "outputs": [
    {
     "output_type": "stream",
     "name": "stdout",
     "text": [
      "Shikhar is 13 years old\nDon't be sad. Please come after 5 years\n"
     ]
    }
   ],
   "source": [
    "name = input(\"input your name\")\n",
    "age=int(input(f\"what's your age {name}?\"))\n",
    "\n",
    "print(f\"{name} is {age} years old\")\n",
    "\n",
    "if age>=18:\n",
    "    print(f\"You are allowed to vote {name}\")\n",
    "else: print(f\"Don't be sad. Please come after {18-age} years\")"
   ]
  },
  {
   "cell_type": "code",
   "execution_count": 62,
   "metadata": {},
   "outputs": [
    {
     "output_type": "stream",
     "name": "stdout",
     "text": [
      "very cool\n"
     ]
    }
   ],
   "source": [
    "age=int(input())\n",
    "if age>=10 and age<=29:\n",
    "    print(\"cool\")\n",
    "elif 30<=age<=50:\n",
    "    print(\"very cool\")"
   ]
  },
  {
   "cell_type": "code",
   "execution_count": null,
   "metadata": {},
   "outputs": [],
   "source": []
  }
 ]
}