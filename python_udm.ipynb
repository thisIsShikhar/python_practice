{
 "metadata": {
  "language_info": {
   "codemirror_mode": {
    "name": "ipython",
    "version": 3
   },
   "file_extension": ".py",
   "mimetype": "text/x-python",
   "name": "python",
   "nbconvert_exporter": "python",
   "pygments_lexer": "ipython3",
   "version": "3.8.5-final"
  },
  "orig_nbformat": 2,
  "kernelspec": {
   "name": "python3",
   "display_name": "Python 3.8.5 64-bit ('base': conda)",
   "metadata": {
    "interpreter": {
     "hash": "9fdd795d4f4970461231e8a078e4132ca4d1cd6e8bb9a2b128c86137cc427ec8"
    }
   }
  }
 },
 "nbformat": 4,
 "nbformat_minor": 2,
 "cells": [
  {
   "cell_type": "code",
   "execution_count": 2,
   "metadata": {},
   "outputs": [],
   "source": [
    "a=''' this this rahim's pen '''\n",
    "\n",
    "b= \"\"\" this is rahim's pen \"\"\"\n",
    "\n",
    "c= \" this is rahim's pen \"\n",
    "\n",
    "d= 'he said,\"you are a good boy\"'\n",
    "\n",
    "e = 'you\\t are\\t a\\t good\\t boy'\n",
    "\n",
    "f= 'this is rahim\\'s pen'\n",
    "\n",
    "g= 'print(\\'hello world\\')'"
   ]
  },
  {
   "cell_type": "code",
   "execution_count": 10,
   "metadata": {},
   "outputs": [
    {
     "output_type": "stream",
     "name": "stdout",
     "text": [
      "print('hello world')\n"
     ]
    }
   ],
   "source": [
    "print(g)"
   ]
  },
  {
   "cell_type": "code",
   "execution_count": 11,
   "metadata": {},
   "outputs": [
    {
     "output_type": "execute_result",
     "data": {
      "text/plain": [
       "6"
      ]
     },
     "metadata": {},
     "execution_count": 11
    }
   ],
   "source": []
  },
  {
   "cell_type": "code",
   "execution_count": 26,
   "metadata": {},
   "outputs": [
    {
     "output_type": "stream",
     "name": "stdout",
     "text": [
      "pi is approximately 170.67\n"
     ]
    }
   ],
   "source": [
    "print(\"pi is approximately {:.2f}\".format(512/3))"
   ]
  },
  {
   "cell_type": "code",
   "execution_count": 52,
   "metadata": {},
   "outputs": [
    {
     "output_type": "stream",
     "name": "stdout",
     "text": [
      "this is number 10\nthis is number 20\n"
     ]
    }
   ],
   "source": [
    "a=10\n",
    "b=20\n",
    "print(f\"this is number {a}\")\n",
    "print(\"this is number {0}\".format(b))"
   ]
  },
  {
   "cell_type": "code",
   "execution_count": 50,
   "metadata": {},
   "outputs": [
    {
     "output_type": "stream",
     "name": "stdout",
     "text": [
      "the sqare of  1 is    1 and qube is    1\nthe sqare of  2 is    4 and qube is    8\nthe sqare of  3 is    9 and qube is   27\nthe sqare of  4 is   16 and qube is   64\nthe sqare of  5 is   25 and qube is  125\nthe sqare of  6 is   36 and qube is  216\nthe sqare of  7 is   49 and qube is  343\nthe sqare of  8 is   64 and qube is  512\nthe sqare of  9 is   81 and qube is  729\nthe sqare of 10 is  100 and qube is 1000\nthe sqare of 11 is  121 and qube is 1331\nthe sqare of 12 is  144 and qube is 1728\nthe sqare of 13 is  169 and qube is 2197\nthe sqare of 14 is  196 and qube is 2744\n"
     ]
    }
   ],
   "source": [
    "for i in range(1,15):\n",
    "    print(\"the sqare of {0:2d} is {1:4d} and qube is {2:4d}\".format(i,i**2,i**3))\n",
    "    "
   ]
  },
  {
   "cell_type": "code",
   "execution_count": 56,
   "metadata": {},
   "outputs": [
    {
     "output_type": "stream",
     "name": "stdout",
     "text": [
      "1\n2\n3\n4\n5\n6\n7\n8\n9\n10\n11\n12\n13\n14\n"
     ]
    }
   ],
   "source": [
    "for i in range(1,15):\n",
    " print(i)  #atleast one space is needed for indentation"
   ]
  },
  {
   "cell_type": "code",
   "execution_count": 59,
   "metadata": {},
   "outputs": [
    {
     "output_type": "stream",
     "name": "stdout",
     "text": [
      "Shikhar is 13 years old\nDon't be sad. Please come after 5 years\n"
     ]
    }
   ],
   "source": [
    "name = input(\"input your name\")\n",
    "age=int(input(f\"what's your age {name}?\"))\n",
    "\n",
    "print(f\"{name} is {age} years old\")\n",
    "\n",
    "if age>=18:\n",
    "    print(f\"You are allowed to vote {name}\")\n",
    "else: print(f\"Don't be sad. Please come after {18-age} years\")"
   ]
  },
  {
   "cell_type": "code",
   "execution_count": 62,
   "metadata": {},
   "outputs": [
    {
     "output_type": "stream",
     "name": "stdout",
     "text": [
      "very cool\n"
     ]
    }
   ],
   "source": [
    "age=int(input())\n",
    "if age>=10 and age<=29:\n",
    "    print(\"cool\")\n",
    "elif 30<=age<=50:\n",
    "    print(\"very cool\")"
   ]
  },
  {
   "cell_type": "code",
   "execution_count": 4,
   "metadata": {},
   "outputs": [
    {
     "output_type": "stream",
     "name": "stdout",
     "text": [
      "hello\n"
     ]
    }
   ],
   "source": [
    "x=\"False\"    #for conditions, if the value is non-zero or not-null, it will return true\n",
    "if x:\n",
    "    print(\"hello\")"
   ]
  },
  {
   "cell_type": "code",
   "execution_count": 6,
   "metadata": {},
   "outputs": [
    {
     "output_type": "stream",
     "name": "stdout",
     "text": [
      "Congrats! you can vote.\n"
     ]
    }
   ],
   "source": [
    "age=int(input(\"Enter your age:\"))\n",
    "\n",
    "if not age<18:\n",
    "    print(\"Congrats! you can vote.\")"
   ]
  },
  {
   "cell_type": "code",
   "execution_count": 21,
   "metadata": {},
   "outputs": [
    {
     "output_type": "stream",
     "name": "stdout",
     "text": [
      "9123224425523\n"
     ]
    }
   ],
   "source": [
    "number=\"9,123,224,425,523\"\n",
    "#print(len(number))\n",
    "cleanedNUmber=''\n",
    "\n",
    "for i in range(0,len(number)):\n",
    "    if number[i] in '0123456789':\n",
    "        cleanedNUmber=cleanedNUmber+number[i]\n",
    "\n",
    "\n",
    "new=int(cleanedNUmber)\n",
    "print(new)"
   ]
  },
  {
   "cell_type": "code",
   "execution_count": 23,
   "metadata": {},
   "outputs": [
    {
     "output_type": "stream",
     "name": "stdout",
     "text": [
      "9123224425523\n"
     ]
    }
   ],
   "source": [
    "number=\"9,123,224,425,523\"\n",
    "cleanedNUmber=''\n",
    "\n",
    "for i in number:\n",
    "    if i in '0123456789':\n",
    "        cleanedNUmber=cleanedNUmber+i\n",
    "\n",
    "new=int(cleanedNUmber)\n",
    "print(new)"
   ]
  },
  {
   "cell_type": "code",
   "execution_count": 26,
   "metadata": {},
   "outputs": [
    {
     "output_type": "stream",
     "name": "stdout",
     "text": [
      "1x1=1\n1x2=2\n1x3=3\n1x4=4\n1x5=5\n1x6=6\n1x7=7\n1x8=8\n1x9=9\n1x10=10\n-----------\n2x1=2\n2x2=4\n2x3=6\n2x4=8\n2x5=10\n2x6=12\n2x7=14\n2x8=16\n2x9=18\n2x10=20\n-----------\n3x1=3\n3x2=6\n3x3=9\n3x4=12\n3x5=15\n3x6=18\n3x7=21\n3x8=24\n3x9=27\n3x10=30\n-----------\n4x1=4\n4x2=8\n4x3=12\n4x4=16\n4x5=20\n4x6=24\n4x7=28\n4x8=32\n4x9=36\n4x10=40\n-----------\n5x1=5\n5x2=10\n5x3=15\n5x4=20\n5x5=25\n5x6=30\n5x7=35\n5x8=40\n5x9=45\n5x10=50\n-----------\n6x1=6\n6x2=12\n6x3=18\n6x4=24\n6x5=30\n6x6=36\n6x7=42\n6x8=48\n6x9=54\n6x10=60\n-----------\n7x1=7\n7x2=14\n7x3=21\n7x4=28\n7x5=35\n7x6=42\n7x7=49\n7x8=56\n7x9=63\n7x10=70\n-----------\n8x1=8\n8x2=16\n8x3=24\n8x4=32\n8x5=40\n8x6=48\n8x7=56\n8x8=64\n8x9=72\n8x10=80\n-----------\n9x1=9\n9x2=18\n9x3=27\n9x4=36\n9x5=45\n9x6=54\n9x7=63\n9x8=72\n9x9=81\n9x10=90\n-----------\n10x1=10\n10x2=20\n10x3=30\n10x4=40\n10x5=50\n10x6=60\n10x7=70\n10x8=80\n10x9=90\n10x10=100\n-----------\n"
     ]
    }
   ],
   "source": [
    "for i in range(1,11):\n",
    "    for j in range(1,11):\n",
    "        print(f\"{i}x{j}={i*j}\")\n",
    "    print(\"-----------\")"
   ]
  },
  {
   "cell_type": "code",
   "execution_count": 39,
   "metadata": {},
   "outputs": [
    {
     "output_type": "stream",
     "name": "stdout",
     "text": [
      "25\n"
     ]
    }
   ],
   "source": [
    "a=[]\n",
    "\n",
    "\n",
    "while True:\n",
    "    b=(input(\"Write a digit\"))\n",
    "    if b==\"stop\":\n",
    "        break\n",
    "    else: a.append(int(b))\n",
    "\n",
    "print(sum(a))"
   ]
  },
  {
   "cell_type": "code",
   "execution_count": 42,
   "metadata": {},
   "outputs": [
    {
     "output_type": "execute_result",
     "data": {
      "text/plain": [
       "20"
      ]
     },
     "metadata": {},
     "execution_count": 42
    }
   ],
   "source": [
    "a=10\n",
    "\n",
    "a=a+5\n",
    "a+=5 #augmented assignment\n",
    "a"
   ]
  },
  {
   "cell_type": "code",
   "execution_count": 57,
   "metadata": {},
   "outputs": [
    {
     "output_type": "stream",
     "name": "stdout",
     "text": [
      "the length of section 1 is 0\n"
     ]
    }
   ],
   "source": [
    "#challenge: Program Flow P-1\n",
    "\n",
    "a=(input(\"Enter your IP address: \"))\n",
    "b=1\n",
    "c=0\n",
    "i=\"\"\n",
    "for i in a:\n",
    "    if i=='.':\n",
    "        print(f\"the length of section {b} is {c}\")\n",
    "        b+=1\n",
    "        c=0\n",
    "    else: c+=1\n",
    "\n",
    "if i!='.':\n",
    "    print(f\"the length of section {b} is {c}\")"
   ]
  },
  {
   "cell_type": "code",
   "execution_count": null,
   "metadata": {},
   "outputs": [],
   "source": []
  }
 ]
}